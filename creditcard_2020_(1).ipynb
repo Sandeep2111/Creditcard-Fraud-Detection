{
  "nbformat": 4,
  "nbformat_minor": 0,
  "metadata": {
    "kernelspec": {
      "display_name": "Python 3",
      "language": "python",
      "name": "python3"
    },
    "language_info": {
      "codemirror_mode": {
        "name": "ipython",
        "version": 3
      },
      "file_extension": ".py",
      "mimetype": "text/x-python",
      "name": "python",
      "nbconvert_exporter": "python",
      "pygments_lexer": "ipython3",
      "version": "3.6.2"
    },
    "colab": {
      "name": "creditcard-2020 (1).ipynb",
      "provenance": []
    },
    "accelerator": "GPU"
  },
  "cells": [
    {
      "cell_type": "code",
      "metadata": {
        "_cell_guid": "b1076dfc-b9ad-4769-8c92-a6c4dae69d19",
        "_uuid": "8f2839f25d086af736a60e9eeb907d3b93b6e0e5",
        "id": "3DmWNDP7IjRI",
        "colab_type": "code",
        "colab": {
          "base_uri": "https://localhost:8080/",
          "height": 71
        },
        "outputId": "1f021879-e1c2-4739-a06a-878433292c58"
      },
      "source": [
        "import numpy as np # linear algebra\n",
        "import pandas as pd # data processing, CSV file I/O (e.g. pd.read_csv)\n",
        "import matplotlib.pyplot as plt\n",
        "import seaborn as sns\n",
        "from sklearn.manifold import TSNE\n",
        "from sklearn.decomposition import PCA, TruncatedSVD\n",
        "import matplotlib.patches as mpatches\n",
        "import time\n",
        "%matplotlib inline\n",
        "\n",
        "# Classifier Libraries\n",
        "from sklearn.linear_model import LogisticRegression\n",
        "from sklearn.svm import SVC\n",
        "from sklearn.neighbors import KNeighborsClassifier\n",
        "from sklearn.tree import DecisionTreeClassifier\n",
        "from sklearn.ensemble import RandomForestClassifier\n",
        "import collections\n",
        "\n",
        "# Other Libraries\n",
        "from sklearn.model_selection import train_test_split\n",
        "from sklearn.pipeline import make_pipeline\n",
        "from sklearn.metrics import precision_score, recall_score, f1_score, roc_auc_score, accuracy_score, classification_report\n",
        "from collections import Counter\n",
        "from sklearn.model_selection import KFold, StratifiedKFold\n",
        "import warnings\n",
        "warnings.filterwarnings(\"ignore\")\n",
        "\n"
      ],
      "execution_count": 3,
      "outputs": [
        {
          "output_type": "stream",
          "text": [
            "/usr/local/lib/python3.6/dist-packages/statsmodels/tools/_testing.py:19: FutureWarning: pandas.util.testing is deprecated. Use the functions in the public API at pandas.testing instead.\n",
            "  import pandas.util.testing as tm\n"
          ],
          "name": "stderr"
        }
      ]
    },
    {
      "cell_type": "code",
      "metadata": {
        "id": "4ipYLqoVKS-m",
        "colab_type": "code",
        "colab": {}
      },
      "source": [
        "# Colab library to upload files to notebook\n",
        "from google.colab import files\n",
        "\n",
        "# Install Kaggle library\n",
        "!pip install -q kaggle"
      ],
      "execution_count": 23,
      "outputs": []
    },
    {
      "cell_type": "code",
      "metadata": {
        "id": "z00eIYw3Kret",
        "colab_type": "code",
        "colab": {
          "resources": {
            "http://localhost:8080/nbextensions/google.colab/files.js": {
              "data": "Ly8gQ29weXJpZ2h0IDIwMTcgR29vZ2xlIExMQwovLwovLyBMaWNlbnNlZCB1bmRlciB0aGUgQXBhY2hlIExpY2Vuc2UsIFZlcnNpb24gMi4wICh0aGUgIkxpY2Vuc2UiKTsKLy8geW91IG1heSBub3QgdXNlIHRoaXMgZmlsZSBleGNlcHQgaW4gY29tcGxpYW5jZSB3aXRoIHRoZSBMaWNlbnNlLgovLyBZb3UgbWF5IG9idGFpbiBhIGNvcHkgb2YgdGhlIExpY2Vuc2UgYXQKLy8KLy8gICAgICBodHRwOi8vd3d3LmFwYWNoZS5vcmcvbGljZW5zZXMvTElDRU5TRS0yLjAKLy8KLy8gVW5sZXNzIHJlcXVpcmVkIGJ5IGFwcGxpY2FibGUgbGF3IG9yIGFncmVlZCB0byBpbiB3cml0aW5nLCBzb2Z0d2FyZQovLyBkaXN0cmlidXRlZCB1bmRlciB0aGUgTGljZW5zZSBpcyBkaXN0cmlidXRlZCBvbiBhbiAiQVMgSVMiIEJBU0lTLAovLyBXSVRIT1VUIFdBUlJBTlRJRVMgT1IgQ09ORElUSU9OUyBPRiBBTlkgS0lORCwgZWl0aGVyIGV4cHJlc3Mgb3IgaW1wbGllZC4KLy8gU2VlIHRoZSBMaWNlbnNlIGZvciB0aGUgc3BlY2lmaWMgbGFuZ3VhZ2UgZ292ZXJuaW5nIHBlcm1pc3Npb25zIGFuZAovLyBsaW1pdGF0aW9ucyB1bmRlciB0aGUgTGljZW5zZS4KCi8qKgogKiBAZmlsZW92ZXJ2aWV3IEhlbHBlcnMgZm9yIGdvb2dsZS5jb2xhYiBQeXRob24gbW9kdWxlLgogKi8KKGZ1bmN0aW9uKHNjb3BlKSB7CmZ1bmN0aW9uIHNwYW4odGV4dCwgc3R5bGVBdHRyaWJ1dGVzID0ge30pIHsKICBjb25zdCBlbGVtZW50ID0gZG9jdW1lbnQuY3JlYXRlRWxlbWVudCgnc3BhbicpOwogIGVsZW1lbnQudGV4dENvbnRlbnQgPSB0ZXh0OwogIGZvciAoY29uc3Qga2V5IG9mIE9iamVjdC5rZXlzKHN0eWxlQXR0cmlidXRlcykpIHsKICAgIGVsZW1lbnQuc3R5bGVba2V5XSA9IHN0eWxlQXR0cmlidXRlc1trZXldOwogIH0KICByZXR1cm4gZWxlbWVudDsKfQoKLy8gTWF4IG51bWJlciBvZiBieXRlcyB3aGljaCB3aWxsIGJlIHVwbG9hZGVkIGF0IGEgdGltZS4KY29uc3QgTUFYX1BBWUxPQURfU0laRSA9IDEwMCAqIDEwMjQ7CgpmdW5jdGlvbiBfdXBsb2FkRmlsZXMoaW5wdXRJZCwgb3V0cHV0SWQpIHsKICBjb25zdCBzdGVwcyA9IHVwbG9hZEZpbGVzU3RlcChpbnB1dElkLCBvdXRwdXRJZCk7CiAgY29uc3Qgb3V0cHV0RWxlbWVudCA9IGRvY3VtZW50LmdldEVsZW1lbnRCeUlkKG91dHB1dElkKTsKICAvLyBDYWNoZSBzdGVwcyBvbiB0aGUgb3V0cHV0RWxlbWVudCB0byBtYWtlIGl0IGF2YWlsYWJsZSBmb3IgdGhlIG5leHQgY2FsbAogIC8vIHRvIHVwbG9hZEZpbGVzQ29udGludWUgZnJvbSBQeXRob24uCiAgb3V0cHV0RWxlbWVudC5zdGVwcyA9IHN0ZXBzOwoKICByZXR1cm4gX3VwbG9hZEZpbGVzQ29udGludWUob3V0cHV0SWQpOwp9CgovLyBUaGlzIGlzIHJvdWdobHkgYW4gYXN5bmMgZ2VuZXJhdG9yIChub3Qgc3VwcG9ydGVkIGluIHRoZSBicm93c2VyIHlldCksCi8vIHdoZXJlIHRoZXJlIGFyZSBtdWx0aXBsZSBhc3luY2hyb25vdXMgc3RlcHMgYW5kIHRoZSBQeXRob24gc2lkZSBpcyBnb2luZwovLyB0byBwb2xsIGZvciBjb21wbGV0aW9uIG9mIGVhY2ggc3RlcC4KLy8gVGhpcyB1c2VzIGEgUHJvbWlzZSB0byBibG9jayB0aGUgcHl0aG9uIHNpZGUgb24gY29tcGxldGlvbiBvZiBlYWNoIHN0ZXAsCi8vIHRoZW4gcGFzc2VzIHRoZSByZXN1bHQgb2YgdGhlIHByZXZpb3VzIHN0ZXAgYXMgdGhlIGlucHV0IHRvIHRoZSBuZXh0IHN0ZXAuCmZ1bmN0aW9uIF91cGxvYWRGaWxlc0NvbnRpbnVlKG91dHB1dElkKSB7CiAgY29uc3Qgb3V0cHV0RWxlbWVudCA9IGRvY3VtZW50LmdldEVsZW1lbnRCeUlkKG91dHB1dElkKTsKICBjb25zdCBzdGVwcyA9IG91dHB1dEVsZW1lbnQuc3RlcHM7CgogIGNvbnN0IG5leHQgPSBzdGVwcy5uZXh0KG91dHB1dEVsZW1lbnQubGFzdFByb21pc2VWYWx1ZSk7CiAgcmV0dXJuIFByb21pc2UucmVzb2x2ZShuZXh0LnZhbHVlLnByb21pc2UpLnRoZW4oKHZhbHVlKSA9PiB7CiAgICAvLyBDYWNoZSB0aGUgbGFzdCBwcm9taXNlIHZhbHVlIHRvIG1ha2UgaXQgYXZhaWxhYmxlIHRvIHRoZSBuZXh0CiAgICAvLyBzdGVwIG9mIHRoZSBnZW5lcmF0b3IuCiAgICBvdXRwdXRFbGVtZW50Lmxhc3RQcm9taXNlVmFsdWUgPSB2YWx1ZTsKICAgIHJldHVybiBuZXh0LnZhbHVlLnJlc3BvbnNlOwogIH0pOwp9CgovKioKICogR2VuZXJhdG9yIGZ1bmN0aW9uIHdoaWNoIGlzIGNhbGxlZCBiZXR3ZWVuIGVhY2ggYXN5bmMgc3RlcCBvZiB0aGUgdXBsb2FkCiAqIHByb2Nlc3MuCiAqIEBwYXJhbSB7c3RyaW5nfSBpbnB1dElkIEVsZW1lbnQgSUQgb2YgdGhlIGlucHV0IGZpbGUgcGlja2VyIGVsZW1lbnQuCiAqIEBwYXJhbSB7c3RyaW5nfSBvdXRwdXRJZCBFbGVtZW50IElEIG9mIHRoZSBvdXRwdXQgZGlzcGxheS4KICogQHJldHVybiB7IUl0ZXJhYmxlPCFPYmplY3Q+fSBJdGVyYWJsZSBvZiBuZXh0IHN0ZXBzLgogKi8KZnVuY3Rpb24qIHVwbG9hZEZpbGVzU3RlcChpbnB1dElkLCBvdXRwdXRJZCkgewogIGNvbnN0IGlucHV0RWxlbWVudCA9IGRvY3VtZW50LmdldEVsZW1lbnRCeUlkKGlucHV0SWQpOwogIGlucHV0RWxlbWVudC5kaXNhYmxlZCA9IGZhbHNlOwoKICBjb25zdCBvdXRwdXRFbGVtZW50ID0gZG9jdW1lbnQuZ2V0RWxlbWVudEJ5SWQob3V0cHV0SWQpOwogIG91dHB1dEVsZW1lbnQuaW5uZXJIVE1MID0gJyc7CgogIGNvbnN0IHBpY2tlZFByb21pc2UgPSBuZXcgUHJvbWlzZSgocmVzb2x2ZSkgPT4gewogICAgaW5wdXRFbGVtZW50LmFkZEV2ZW50TGlzdGVuZXIoJ2NoYW5nZScsIChlKSA9PiB7CiAgICAgIHJlc29sdmUoZS50YXJnZXQuZmlsZXMpOwogICAgfSk7CiAgfSk7CgogIGNvbnN0IGNhbmNlbCA9IGRvY3VtZW50LmNyZWF0ZUVsZW1lbnQoJ2J1dHRvbicpOwogIGlucHV0RWxlbWVudC5wYXJlbnRFbGVtZW50LmFwcGVuZENoaWxkKGNhbmNlbCk7CiAgY2FuY2VsLnRleHRDb250ZW50ID0gJ0NhbmNlbCB1cGxvYWQnOwogIGNvbnN0IGNhbmNlbFByb21pc2UgPSBuZXcgUHJvbWlzZSgocmVzb2x2ZSkgPT4gewogICAgY2FuY2VsLm9uY2xpY2sgPSAoKSA9PiB7CiAgICAgIHJlc29sdmUobnVsbCk7CiAgICB9OwogIH0pOwoKICAvLyBXYWl0IGZvciB0aGUgdXNlciB0byBwaWNrIHRoZSBmaWxlcy4KICBjb25zdCBmaWxlcyA9IHlpZWxkIHsKICAgIHByb21pc2U6IFByb21pc2UucmFjZShbcGlja2VkUHJvbWlzZSwgY2FuY2VsUHJvbWlzZV0pLAogICAgcmVzcG9uc2U6IHsKICAgICAgYWN0aW9uOiAnc3RhcnRpbmcnLAogICAgfQogIH07CgogIGNhbmNlbC5yZW1vdmUoKTsKCiAgLy8gRGlzYWJsZSB0aGUgaW5wdXQgZWxlbWVudCBzaW5jZSBmdXJ0aGVyIHBpY2tzIGFyZSBub3QgYWxsb3dlZC4KICBpbnB1dEVsZW1lbnQuZGlzYWJsZWQgPSB0cnVlOwoKICBpZiAoIWZpbGVzKSB7CiAgICByZXR1cm4gewogICAgICByZXNwb25zZTogewogICAgICAgIGFjdGlvbjogJ2NvbXBsZXRlJywKICAgICAgfQogICAgfTsKICB9CgogIGZvciAoY29uc3QgZmlsZSBvZiBmaWxlcykgewogICAgY29uc3QgbGkgPSBkb2N1bWVudC5jcmVhdGVFbGVtZW50KCdsaScpOwogICAgbGkuYXBwZW5kKHNwYW4oZmlsZS5uYW1lLCB7Zm9udFdlaWdodDogJ2JvbGQnfSkpOwogICAgbGkuYXBwZW5kKHNwYW4oCiAgICAgICAgYCgke2ZpbGUudHlwZSB8fCAnbi9hJ30pIC0gJHtmaWxlLnNpemV9IGJ5dGVzLCBgICsKICAgICAgICBgbGFzdCBtb2RpZmllZDogJHsKICAgICAgICAgICAgZmlsZS5sYXN0TW9kaWZpZWREYXRlID8gZmlsZS5sYXN0TW9kaWZpZWREYXRlLnRvTG9jYWxlRGF0ZVN0cmluZygpIDoKICAgICAgICAgICAgICAgICAgICAgICAgICAgICAgICAgICAgJ24vYSd9IC0gYCkpOwogICAgY29uc3QgcGVyY2VudCA9IHNwYW4oJzAlIGRvbmUnKTsKICAgIGxpLmFwcGVuZENoaWxkKHBlcmNlbnQpOwoKICAgIG91dHB1dEVsZW1lbnQuYXBwZW5kQ2hpbGQobGkpOwoKICAgIGNvbnN0IGZpbGVEYXRhUHJvbWlzZSA9IG5ldyBQcm9taXNlKChyZXNvbHZlKSA9PiB7CiAgICAgIGNvbnN0IHJlYWRlciA9IG5ldyBGaWxlUmVhZGVyKCk7CiAgICAgIHJlYWRlci5vbmxvYWQgPSAoZSkgPT4gewogICAgICAgIHJlc29sdmUoZS50YXJnZXQucmVzdWx0KTsKICAgICAgfTsKICAgICAgcmVhZGVyLnJlYWRBc0FycmF5QnVmZmVyKGZpbGUpOwogICAgfSk7CiAgICAvLyBXYWl0IGZvciB0aGUgZGF0YSB0byBiZSByZWFkeS4KICAgIGxldCBmaWxlRGF0YSA9IHlpZWxkIHsKICAgICAgcHJvbWlzZTogZmlsZURhdGFQcm9taXNlLAogICAgICByZXNwb25zZTogewogICAgICAgIGFjdGlvbjogJ2NvbnRpbnVlJywKICAgICAgfQogICAgfTsKCiAgICAvLyBVc2UgYSBjaHVua2VkIHNlbmRpbmcgdG8gYXZvaWQgbWVzc2FnZSBzaXplIGxpbWl0cy4gU2VlIGIvNjIxMTU2NjAuCiAgICBsZXQgcG9zaXRpb24gPSAwOwogICAgd2hpbGUgKHBvc2l0aW9uIDwgZmlsZURhdGEuYnl0ZUxlbmd0aCkgewogICAgICBjb25zdCBsZW5ndGggPSBNYXRoLm1pbihmaWxlRGF0YS5ieXRlTGVuZ3RoIC0gcG9zaXRpb24sIE1BWF9QQVlMT0FEX1NJWkUpOwogICAgICBjb25zdCBjaHVuayA9IG5ldyBVaW50OEFycmF5KGZpbGVEYXRhLCBwb3NpdGlvbiwgbGVuZ3RoKTsKICAgICAgcG9zaXRpb24gKz0gbGVuZ3RoOwoKICAgICAgY29uc3QgYmFzZTY0ID0gYnRvYShTdHJpbmcuZnJvbUNoYXJDb2RlLmFwcGx5KG51bGwsIGNodW5rKSk7CiAgICAgIHlpZWxkIHsKICAgICAgICByZXNwb25zZTogewogICAgICAgICAgYWN0aW9uOiAnYXBwZW5kJywKICAgICAgICAgIGZpbGU6IGZpbGUubmFtZSwKICAgICAgICAgIGRhdGE6IGJhc2U2NCwKICAgICAgICB9LAogICAgICB9OwogICAgICBwZXJjZW50LnRleHRDb250ZW50ID0KICAgICAgICAgIGAke01hdGgucm91bmQoKHBvc2l0aW9uIC8gZmlsZURhdGEuYnl0ZUxlbmd0aCkgKiAxMDApfSUgZG9uZWA7CiAgICB9CiAgfQoKICAvLyBBbGwgZG9uZS4KICB5aWVsZCB7CiAgICByZXNwb25zZTogewogICAgICBhY3Rpb246ICdjb21wbGV0ZScsCiAgICB9CiAgfTsKfQoKc2NvcGUuZ29vZ2xlID0gc2NvcGUuZ29vZ2xlIHx8IHt9OwpzY29wZS5nb29nbGUuY29sYWIgPSBzY29wZS5nb29nbGUuY29sYWIgfHwge307CnNjb3BlLmdvb2dsZS5jb2xhYi5fZmlsZXMgPSB7CiAgX3VwbG9hZEZpbGVzLAogIF91cGxvYWRGaWxlc0NvbnRpbnVlLAp9Owp9KShzZWxmKTsK",
              "ok": true,
              "headers": [
                [
                  "content-type",
                  "application/javascript"
                ]
              ],
              "status": 200,
              "status_text": ""
            }
          },
          "base_uri": "https://localhost:8080/",
          "height": 72
        },
        "outputId": "ebfc1ea0-b30e-4b3d-b669-bdd28d6fa959"
      },
      "source": [
        "uploaded = files.upload()"
      ],
      "execution_count": 24,
      "outputs": [
        {
          "output_type": "display_data",
          "data": {
            "text/html": [
              "\n",
              "     <input type=\"file\" id=\"files-d17cf5b6-63c3-4bd7-a309-68928352448e\" name=\"files[]\" multiple disabled\n",
              "        style=\"border:none\" />\n",
              "     <output id=\"result-d17cf5b6-63c3-4bd7-a309-68928352448e\">\n",
              "      Upload widget is only available when the cell has been executed in the\n",
              "      current browser session. Please rerun this cell to enable.\n",
              "      </output>\n",
              "      <script src=\"/nbextensions/google.colab/files.js\"></script> "
            ],
            "text/plain": [
              "<IPython.core.display.HTML object>"
            ]
          },
          "metadata": {
            "tags": []
          }
        },
        {
          "output_type": "stream",
          "text": [
            "Saving kaggle.json to kaggle (1).json\n"
          ],
          "name": "stdout"
        }
      ]
    },
    {
      "cell_type": "code",
      "metadata": {
        "id": "hpfPIDRzLuPR",
        "colab_type": "code",
        "colab": {}
      },
      "source": [
        "!pip install -q kaggle\n",
        "!mkdir -p ~/.kaggle"
      ],
      "execution_count": 25,
      "outputs": []
    },
    {
      "cell_type": "code",
      "metadata": {
        "id": "LJprMjmvNcMo",
        "colab_type": "code",
        "colab": {
          "base_uri": "https://localhost:8080/",
          "height": 34
        },
        "outputId": "c421ab66-4432-4fc0-cbc9-4b2392b9ec20"
      },
      "source": [
        "!cp kaggle.json ~/.kaggle/\n",
        "!ls ~/.kaggle\n",
        "!chmod 600 /root/.kaggle/kaggle.json"
      ],
      "execution_count": 26,
      "outputs": [
        {
          "output_type": "stream",
          "text": [
            "kaggle.json\n"
          ],
          "name": "stdout"
        }
      ]
    },
    {
      "cell_type": "code",
      "metadata": {
        "id": "AZV7gOKWMjcs",
        "colab_type": "code",
        "colab": {
          "base_uri": "https://localhost:8080/",
          "height": 34
        },
        "outputId": "0effc7ce-2908-4822-ba9f-887d8fb10cfa"
      },
      "source": [
        "!kaggle datasets download -d mlg-ulb/creditcardfraud"
      ],
      "execution_count": 27,
      "outputs": [
        {
          "output_type": "stream",
          "text": [
            "creditcardfraud.zip: Skipping, found more recently modified local copy (use --force to force download)\n"
          ],
          "name": "stdout"
        }
      ]
    },
    {
      "cell_type": "code",
      "metadata": {
        "id": "fRp-0TLQR52V",
        "colab_type": "code",
        "colab": {
          "base_uri": "https://localhost:8080/",
          "height": 34
        },
        "outputId": "c0b24bb5-28fd-4784-8de2-e04d37daf192"
      },
      "source": [
        "!ls"
      ],
      "execution_count": 28,
      "outputs": [
        {
          "output_type": "stream",
          "text": [
            " creditcardfraud.zip   files  'kaggle (1).json'   kaggle.json   sample_data\n"
          ],
          "name": "stdout"
        }
      ]
    },
    {
      "cell_type": "code",
      "metadata": {
        "id": "YiqPLddCR5zu",
        "colab_type": "code",
        "colab": {}
      },
      "source": [
        "import zipfile\n",
        "zip_ref = zipfile.ZipFile('creditcardfraud.zip', 'r')\n",
        "zip_ref.extractall('files')\n",
        "zip_ref.close()\n",
        "import pandas as pd\n",
        "credit_card=pd.read_csv('/content/files/creditcard.csv')"
      ],
      "execution_count": 29,
      "outputs": []
    },
    {
      "cell_type": "code",
      "metadata": {
        "id": "jqYY4vmDR5wW",
        "colab_type": "code",
        "colab": {}
      },
      "source": [
        ""
      ],
      "execution_count": 29,
      "outputs": []
    },
    {
      "cell_type": "code",
      "metadata": {
        "_cell_guid": "79c7e3d0-c299-4dcb-8224-4455121ee9b0",
        "_uuid": "d629ff2d2480ee46fbb7e2d37f6b5fab8052498a",
        "id": "A_TeLEjCIjRR",
        "colab_type": "code",
        "colab": {}
      },
      "source": [
        ""
      ],
      "execution_count": 29,
      "outputs": []
    },
    {
      "cell_type": "code",
      "metadata": {
        "id": "e_oEVyBrIjRW",
        "colab_type": "code",
        "colab": {
          "base_uri": "https://localhost:8080/",
          "height": 224
        },
        "outputId": "9a152ad5-417e-40c9-d452-d707aa39b227"
      },
      "source": [
        "credit_card.head() # printing first 5 rows of credit_card dataframe"
      ],
      "execution_count": 30,
      "outputs": [
        {
          "output_type": "execute_result",
          "data": {
            "text/html": [
              "<div>\n",
              "<style scoped>\n",
              "    .dataframe tbody tr th:only-of-type {\n",
              "        vertical-align: middle;\n",
              "    }\n",
              "\n",
              "    .dataframe tbody tr th {\n",
              "        vertical-align: top;\n",
              "    }\n",
              "\n",
              "    .dataframe thead th {\n",
              "        text-align: right;\n",
              "    }\n",
              "</style>\n",
              "<table border=\"1\" class=\"dataframe\">\n",
              "  <thead>\n",
              "    <tr style=\"text-align: right;\">\n",
              "      <th></th>\n",
              "      <th>Time</th>\n",
              "      <th>V1</th>\n",
              "      <th>V2</th>\n",
              "      <th>V3</th>\n",
              "      <th>V4</th>\n",
              "      <th>V5</th>\n",
              "      <th>V6</th>\n",
              "      <th>V7</th>\n",
              "      <th>V8</th>\n",
              "      <th>V9</th>\n",
              "      <th>V10</th>\n",
              "      <th>V11</th>\n",
              "      <th>V12</th>\n",
              "      <th>V13</th>\n",
              "      <th>V14</th>\n",
              "      <th>V15</th>\n",
              "      <th>V16</th>\n",
              "      <th>V17</th>\n",
              "      <th>V18</th>\n",
              "      <th>V19</th>\n",
              "      <th>V20</th>\n",
              "      <th>V21</th>\n",
              "      <th>V22</th>\n",
              "      <th>V23</th>\n",
              "      <th>V24</th>\n",
              "      <th>V25</th>\n",
              "      <th>V26</th>\n",
              "      <th>V27</th>\n",
              "      <th>V28</th>\n",
              "      <th>Amount</th>\n",
              "      <th>Class</th>\n",
              "    </tr>\n",
              "  </thead>\n",
              "  <tbody>\n",
              "    <tr>\n",
              "      <th>0</th>\n",
              "      <td>0.0</td>\n",
              "      <td>-1.359807</td>\n",
              "      <td>-0.072781</td>\n",
              "      <td>2.536347</td>\n",
              "      <td>1.378155</td>\n",
              "      <td>-0.338321</td>\n",
              "      <td>0.462388</td>\n",
              "      <td>0.239599</td>\n",
              "      <td>0.098698</td>\n",
              "      <td>0.363787</td>\n",
              "      <td>0.090794</td>\n",
              "      <td>-0.551600</td>\n",
              "      <td>-0.617801</td>\n",
              "      <td>-0.991390</td>\n",
              "      <td>-0.311169</td>\n",
              "      <td>1.468177</td>\n",
              "      <td>-0.470401</td>\n",
              "      <td>0.207971</td>\n",
              "      <td>0.025791</td>\n",
              "      <td>0.403993</td>\n",
              "      <td>0.251412</td>\n",
              "      <td>-0.018307</td>\n",
              "      <td>0.277838</td>\n",
              "      <td>-0.110474</td>\n",
              "      <td>0.066928</td>\n",
              "      <td>0.128539</td>\n",
              "      <td>-0.189115</td>\n",
              "      <td>0.133558</td>\n",
              "      <td>-0.021053</td>\n",
              "      <td>149.62</td>\n",
              "      <td>0</td>\n",
              "    </tr>\n",
              "    <tr>\n",
              "      <th>1</th>\n",
              "      <td>0.0</td>\n",
              "      <td>1.191857</td>\n",
              "      <td>0.266151</td>\n",
              "      <td>0.166480</td>\n",
              "      <td>0.448154</td>\n",
              "      <td>0.060018</td>\n",
              "      <td>-0.082361</td>\n",
              "      <td>-0.078803</td>\n",
              "      <td>0.085102</td>\n",
              "      <td>-0.255425</td>\n",
              "      <td>-0.166974</td>\n",
              "      <td>1.612727</td>\n",
              "      <td>1.065235</td>\n",
              "      <td>0.489095</td>\n",
              "      <td>-0.143772</td>\n",
              "      <td>0.635558</td>\n",
              "      <td>0.463917</td>\n",
              "      <td>-0.114805</td>\n",
              "      <td>-0.183361</td>\n",
              "      <td>-0.145783</td>\n",
              "      <td>-0.069083</td>\n",
              "      <td>-0.225775</td>\n",
              "      <td>-0.638672</td>\n",
              "      <td>0.101288</td>\n",
              "      <td>-0.339846</td>\n",
              "      <td>0.167170</td>\n",
              "      <td>0.125895</td>\n",
              "      <td>-0.008983</td>\n",
              "      <td>0.014724</td>\n",
              "      <td>2.69</td>\n",
              "      <td>0</td>\n",
              "    </tr>\n",
              "    <tr>\n",
              "      <th>2</th>\n",
              "      <td>1.0</td>\n",
              "      <td>-1.358354</td>\n",
              "      <td>-1.340163</td>\n",
              "      <td>1.773209</td>\n",
              "      <td>0.379780</td>\n",
              "      <td>-0.503198</td>\n",
              "      <td>1.800499</td>\n",
              "      <td>0.791461</td>\n",
              "      <td>0.247676</td>\n",
              "      <td>-1.514654</td>\n",
              "      <td>0.207643</td>\n",
              "      <td>0.624501</td>\n",
              "      <td>0.066084</td>\n",
              "      <td>0.717293</td>\n",
              "      <td>-0.165946</td>\n",
              "      <td>2.345865</td>\n",
              "      <td>-2.890083</td>\n",
              "      <td>1.109969</td>\n",
              "      <td>-0.121359</td>\n",
              "      <td>-2.261857</td>\n",
              "      <td>0.524980</td>\n",
              "      <td>0.247998</td>\n",
              "      <td>0.771679</td>\n",
              "      <td>0.909412</td>\n",
              "      <td>-0.689281</td>\n",
              "      <td>-0.327642</td>\n",
              "      <td>-0.139097</td>\n",
              "      <td>-0.055353</td>\n",
              "      <td>-0.059752</td>\n",
              "      <td>378.66</td>\n",
              "      <td>0</td>\n",
              "    </tr>\n",
              "    <tr>\n",
              "      <th>3</th>\n",
              "      <td>1.0</td>\n",
              "      <td>-0.966272</td>\n",
              "      <td>-0.185226</td>\n",
              "      <td>1.792993</td>\n",
              "      <td>-0.863291</td>\n",
              "      <td>-0.010309</td>\n",
              "      <td>1.247203</td>\n",
              "      <td>0.237609</td>\n",
              "      <td>0.377436</td>\n",
              "      <td>-1.387024</td>\n",
              "      <td>-0.054952</td>\n",
              "      <td>-0.226487</td>\n",
              "      <td>0.178228</td>\n",
              "      <td>0.507757</td>\n",
              "      <td>-0.287924</td>\n",
              "      <td>-0.631418</td>\n",
              "      <td>-1.059647</td>\n",
              "      <td>-0.684093</td>\n",
              "      <td>1.965775</td>\n",
              "      <td>-1.232622</td>\n",
              "      <td>-0.208038</td>\n",
              "      <td>-0.108300</td>\n",
              "      <td>0.005274</td>\n",
              "      <td>-0.190321</td>\n",
              "      <td>-1.175575</td>\n",
              "      <td>0.647376</td>\n",
              "      <td>-0.221929</td>\n",
              "      <td>0.062723</td>\n",
              "      <td>0.061458</td>\n",
              "      <td>123.50</td>\n",
              "      <td>0</td>\n",
              "    </tr>\n",
              "    <tr>\n",
              "      <th>4</th>\n",
              "      <td>2.0</td>\n",
              "      <td>-1.158233</td>\n",
              "      <td>0.877737</td>\n",
              "      <td>1.548718</td>\n",
              "      <td>0.403034</td>\n",
              "      <td>-0.407193</td>\n",
              "      <td>0.095921</td>\n",
              "      <td>0.592941</td>\n",
              "      <td>-0.270533</td>\n",
              "      <td>0.817739</td>\n",
              "      <td>0.753074</td>\n",
              "      <td>-0.822843</td>\n",
              "      <td>0.538196</td>\n",
              "      <td>1.345852</td>\n",
              "      <td>-1.119670</td>\n",
              "      <td>0.175121</td>\n",
              "      <td>-0.451449</td>\n",
              "      <td>-0.237033</td>\n",
              "      <td>-0.038195</td>\n",
              "      <td>0.803487</td>\n",
              "      <td>0.408542</td>\n",
              "      <td>-0.009431</td>\n",
              "      <td>0.798278</td>\n",
              "      <td>-0.137458</td>\n",
              "      <td>0.141267</td>\n",
              "      <td>-0.206010</td>\n",
              "      <td>0.502292</td>\n",
              "      <td>0.219422</td>\n",
              "      <td>0.215153</td>\n",
              "      <td>69.99</td>\n",
              "      <td>0</td>\n",
              "    </tr>\n",
              "  </tbody>\n",
              "</table>\n",
              "</div>"
            ],
            "text/plain": [
              "   Time        V1        V2        V3  ...       V27       V28  Amount  Class\n",
              "0   0.0 -1.359807 -0.072781  2.536347  ...  0.133558 -0.021053  149.62      0\n",
              "1   0.0  1.191857  0.266151  0.166480  ... -0.008983  0.014724    2.69      0\n",
              "2   1.0 -1.358354 -1.340163  1.773209  ... -0.055353 -0.059752  378.66      0\n",
              "3   1.0 -0.966272 -0.185226  1.792993  ...  0.062723  0.061458  123.50      0\n",
              "4   2.0 -1.158233  0.877737  1.548718  ...  0.219422  0.215153   69.99      0\n",
              "\n",
              "[5 rows x 31 columns]"
            ]
          },
          "metadata": {
            "tags": []
          },
          "execution_count": 30
        }
      ]
    },
    {
      "cell_type": "code",
      "metadata": {
        "id": "DkfVA3F-IjRf",
        "colab_type": "code",
        "colab": {
          "base_uri": "https://localhost:8080/",
          "height": 34
        },
        "outputId": "d7cb5a74-5f75-4225-b377-e9c9a65032ee"
      },
      "source": [
        "credit_card[credit_card['Class']==1].shape"
      ],
      "execution_count": 31,
      "outputs": [
        {
          "output_type": "execute_result",
          "data": {
            "text/plain": [
              "(492, 31)"
            ]
          },
          "metadata": {
            "tags": []
          },
          "execution_count": 31
        }
      ]
    },
    {
      "cell_type": "markdown",
      "metadata": {
        "id": "9FJ8AnzgIjRk",
        "colab_type": "text"
      },
      "source": [
        "We have 492 samples which are fraud Transactions"
      ]
    },
    {
      "cell_type": "code",
      "metadata": {
        "id": "e4ak0MPBIjRk",
        "colab_type": "code",
        "colab": {
          "base_uri": "https://localhost:8080/",
          "height": 317
        },
        "outputId": "a6c0dd93-45b9-4e5e-9658-a08d1799bb44"
      },
      "source": [
        "credit_card.describe()"
      ],
      "execution_count": 32,
      "outputs": [
        {
          "output_type": "execute_result",
          "data": {
            "text/html": [
              "<div>\n",
              "<style scoped>\n",
              "    .dataframe tbody tr th:only-of-type {\n",
              "        vertical-align: middle;\n",
              "    }\n",
              "\n",
              "    .dataframe tbody tr th {\n",
              "        vertical-align: top;\n",
              "    }\n",
              "\n",
              "    .dataframe thead th {\n",
              "        text-align: right;\n",
              "    }\n",
              "</style>\n",
              "<table border=\"1\" class=\"dataframe\">\n",
              "  <thead>\n",
              "    <tr style=\"text-align: right;\">\n",
              "      <th></th>\n",
              "      <th>Time</th>\n",
              "      <th>V1</th>\n",
              "      <th>V2</th>\n",
              "      <th>V3</th>\n",
              "      <th>V4</th>\n",
              "      <th>V5</th>\n",
              "      <th>V6</th>\n",
              "      <th>V7</th>\n",
              "      <th>V8</th>\n",
              "      <th>V9</th>\n",
              "      <th>V10</th>\n",
              "      <th>V11</th>\n",
              "      <th>V12</th>\n",
              "      <th>V13</th>\n",
              "      <th>V14</th>\n",
              "      <th>V15</th>\n",
              "      <th>V16</th>\n",
              "      <th>V17</th>\n",
              "      <th>V18</th>\n",
              "      <th>V19</th>\n",
              "      <th>V20</th>\n",
              "      <th>V21</th>\n",
              "      <th>V22</th>\n",
              "      <th>V23</th>\n",
              "      <th>V24</th>\n",
              "      <th>V25</th>\n",
              "      <th>V26</th>\n",
              "      <th>V27</th>\n",
              "      <th>V28</th>\n",
              "      <th>Amount</th>\n",
              "      <th>Class</th>\n",
              "    </tr>\n",
              "  </thead>\n",
              "  <tbody>\n",
              "    <tr>\n",
              "      <th>count</th>\n",
              "      <td>284807.000000</td>\n",
              "      <td>2.848070e+05</td>\n",
              "      <td>2.848070e+05</td>\n",
              "      <td>2.848070e+05</td>\n",
              "      <td>2.848070e+05</td>\n",
              "      <td>2.848070e+05</td>\n",
              "      <td>2.848070e+05</td>\n",
              "      <td>2.848070e+05</td>\n",
              "      <td>2.848070e+05</td>\n",
              "      <td>2.848070e+05</td>\n",
              "      <td>2.848070e+05</td>\n",
              "      <td>2.848070e+05</td>\n",
              "      <td>2.848070e+05</td>\n",
              "      <td>2.848070e+05</td>\n",
              "      <td>2.848070e+05</td>\n",
              "      <td>2.848070e+05</td>\n",
              "      <td>2.848070e+05</td>\n",
              "      <td>2.848070e+05</td>\n",
              "      <td>2.848070e+05</td>\n",
              "      <td>2.848070e+05</td>\n",
              "      <td>2.848070e+05</td>\n",
              "      <td>2.848070e+05</td>\n",
              "      <td>2.848070e+05</td>\n",
              "      <td>2.848070e+05</td>\n",
              "      <td>2.848070e+05</td>\n",
              "      <td>2.848070e+05</td>\n",
              "      <td>2.848070e+05</td>\n",
              "      <td>2.848070e+05</td>\n",
              "      <td>2.848070e+05</td>\n",
              "      <td>284807.000000</td>\n",
              "      <td>284807.000000</td>\n",
              "    </tr>\n",
              "    <tr>\n",
              "      <th>mean</th>\n",
              "      <td>94813.859575</td>\n",
              "      <td>3.919560e-15</td>\n",
              "      <td>5.688174e-16</td>\n",
              "      <td>-8.769071e-15</td>\n",
              "      <td>2.782312e-15</td>\n",
              "      <td>-1.552563e-15</td>\n",
              "      <td>2.010663e-15</td>\n",
              "      <td>-1.694249e-15</td>\n",
              "      <td>-1.927028e-16</td>\n",
              "      <td>-3.137024e-15</td>\n",
              "      <td>1.768627e-15</td>\n",
              "      <td>9.170318e-16</td>\n",
              "      <td>-1.810658e-15</td>\n",
              "      <td>1.693438e-15</td>\n",
              "      <td>1.479045e-15</td>\n",
              "      <td>3.482336e-15</td>\n",
              "      <td>1.392007e-15</td>\n",
              "      <td>-7.528491e-16</td>\n",
              "      <td>4.328772e-16</td>\n",
              "      <td>9.049732e-16</td>\n",
              "      <td>5.085503e-16</td>\n",
              "      <td>1.537294e-16</td>\n",
              "      <td>7.959909e-16</td>\n",
              "      <td>5.367590e-16</td>\n",
              "      <td>4.458112e-15</td>\n",
              "      <td>1.453003e-15</td>\n",
              "      <td>1.699104e-15</td>\n",
              "      <td>-3.660161e-16</td>\n",
              "      <td>-1.206049e-16</td>\n",
              "      <td>88.349619</td>\n",
              "      <td>0.001727</td>\n",
              "    </tr>\n",
              "    <tr>\n",
              "      <th>std</th>\n",
              "      <td>47488.145955</td>\n",
              "      <td>1.958696e+00</td>\n",
              "      <td>1.651309e+00</td>\n",
              "      <td>1.516255e+00</td>\n",
              "      <td>1.415869e+00</td>\n",
              "      <td>1.380247e+00</td>\n",
              "      <td>1.332271e+00</td>\n",
              "      <td>1.237094e+00</td>\n",
              "      <td>1.194353e+00</td>\n",
              "      <td>1.098632e+00</td>\n",
              "      <td>1.088850e+00</td>\n",
              "      <td>1.020713e+00</td>\n",
              "      <td>9.992014e-01</td>\n",
              "      <td>9.952742e-01</td>\n",
              "      <td>9.585956e-01</td>\n",
              "      <td>9.153160e-01</td>\n",
              "      <td>8.762529e-01</td>\n",
              "      <td>8.493371e-01</td>\n",
              "      <td>8.381762e-01</td>\n",
              "      <td>8.140405e-01</td>\n",
              "      <td>7.709250e-01</td>\n",
              "      <td>7.345240e-01</td>\n",
              "      <td>7.257016e-01</td>\n",
              "      <td>6.244603e-01</td>\n",
              "      <td>6.056471e-01</td>\n",
              "      <td>5.212781e-01</td>\n",
              "      <td>4.822270e-01</td>\n",
              "      <td>4.036325e-01</td>\n",
              "      <td>3.300833e-01</td>\n",
              "      <td>250.120109</td>\n",
              "      <td>0.041527</td>\n",
              "    </tr>\n",
              "    <tr>\n",
              "      <th>min</th>\n",
              "      <td>0.000000</td>\n",
              "      <td>-5.640751e+01</td>\n",
              "      <td>-7.271573e+01</td>\n",
              "      <td>-4.832559e+01</td>\n",
              "      <td>-5.683171e+00</td>\n",
              "      <td>-1.137433e+02</td>\n",
              "      <td>-2.616051e+01</td>\n",
              "      <td>-4.355724e+01</td>\n",
              "      <td>-7.321672e+01</td>\n",
              "      <td>-1.343407e+01</td>\n",
              "      <td>-2.458826e+01</td>\n",
              "      <td>-4.797473e+00</td>\n",
              "      <td>-1.868371e+01</td>\n",
              "      <td>-5.791881e+00</td>\n",
              "      <td>-1.921433e+01</td>\n",
              "      <td>-4.498945e+00</td>\n",
              "      <td>-1.412985e+01</td>\n",
              "      <td>-2.516280e+01</td>\n",
              "      <td>-9.498746e+00</td>\n",
              "      <td>-7.213527e+00</td>\n",
              "      <td>-5.449772e+01</td>\n",
              "      <td>-3.483038e+01</td>\n",
              "      <td>-1.093314e+01</td>\n",
              "      <td>-4.480774e+01</td>\n",
              "      <td>-2.836627e+00</td>\n",
              "      <td>-1.029540e+01</td>\n",
              "      <td>-2.604551e+00</td>\n",
              "      <td>-2.256568e+01</td>\n",
              "      <td>-1.543008e+01</td>\n",
              "      <td>0.000000</td>\n",
              "      <td>0.000000</td>\n",
              "    </tr>\n",
              "    <tr>\n",
              "      <th>25%</th>\n",
              "      <td>54201.500000</td>\n",
              "      <td>-9.203734e-01</td>\n",
              "      <td>-5.985499e-01</td>\n",
              "      <td>-8.903648e-01</td>\n",
              "      <td>-8.486401e-01</td>\n",
              "      <td>-6.915971e-01</td>\n",
              "      <td>-7.682956e-01</td>\n",
              "      <td>-5.540759e-01</td>\n",
              "      <td>-2.086297e-01</td>\n",
              "      <td>-6.430976e-01</td>\n",
              "      <td>-5.354257e-01</td>\n",
              "      <td>-7.624942e-01</td>\n",
              "      <td>-4.055715e-01</td>\n",
              "      <td>-6.485393e-01</td>\n",
              "      <td>-4.255740e-01</td>\n",
              "      <td>-5.828843e-01</td>\n",
              "      <td>-4.680368e-01</td>\n",
              "      <td>-4.837483e-01</td>\n",
              "      <td>-4.988498e-01</td>\n",
              "      <td>-4.562989e-01</td>\n",
              "      <td>-2.117214e-01</td>\n",
              "      <td>-2.283949e-01</td>\n",
              "      <td>-5.423504e-01</td>\n",
              "      <td>-1.618463e-01</td>\n",
              "      <td>-3.545861e-01</td>\n",
              "      <td>-3.171451e-01</td>\n",
              "      <td>-3.269839e-01</td>\n",
              "      <td>-7.083953e-02</td>\n",
              "      <td>-5.295979e-02</td>\n",
              "      <td>5.600000</td>\n",
              "      <td>0.000000</td>\n",
              "    </tr>\n",
              "    <tr>\n",
              "      <th>50%</th>\n",
              "      <td>84692.000000</td>\n",
              "      <td>1.810880e-02</td>\n",
              "      <td>6.548556e-02</td>\n",
              "      <td>1.798463e-01</td>\n",
              "      <td>-1.984653e-02</td>\n",
              "      <td>-5.433583e-02</td>\n",
              "      <td>-2.741871e-01</td>\n",
              "      <td>4.010308e-02</td>\n",
              "      <td>2.235804e-02</td>\n",
              "      <td>-5.142873e-02</td>\n",
              "      <td>-9.291738e-02</td>\n",
              "      <td>-3.275735e-02</td>\n",
              "      <td>1.400326e-01</td>\n",
              "      <td>-1.356806e-02</td>\n",
              "      <td>5.060132e-02</td>\n",
              "      <td>4.807155e-02</td>\n",
              "      <td>6.641332e-02</td>\n",
              "      <td>-6.567575e-02</td>\n",
              "      <td>-3.636312e-03</td>\n",
              "      <td>3.734823e-03</td>\n",
              "      <td>-6.248109e-02</td>\n",
              "      <td>-2.945017e-02</td>\n",
              "      <td>6.781943e-03</td>\n",
              "      <td>-1.119293e-02</td>\n",
              "      <td>4.097606e-02</td>\n",
              "      <td>1.659350e-02</td>\n",
              "      <td>-5.213911e-02</td>\n",
              "      <td>1.342146e-03</td>\n",
              "      <td>1.124383e-02</td>\n",
              "      <td>22.000000</td>\n",
              "      <td>0.000000</td>\n",
              "    </tr>\n",
              "    <tr>\n",
              "      <th>75%</th>\n",
              "      <td>139320.500000</td>\n",
              "      <td>1.315642e+00</td>\n",
              "      <td>8.037239e-01</td>\n",
              "      <td>1.027196e+00</td>\n",
              "      <td>7.433413e-01</td>\n",
              "      <td>6.119264e-01</td>\n",
              "      <td>3.985649e-01</td>\n",
              "      <td>5.704361e-01</td>\n",
              "      <td>3.273459e-01</td>\n",
              "      <td>5.971390e-01</td>\n",
              "      <td>4.539234e-01</td>\n",
              "      <td>7.395934e-01</td>\n",
              "      <td>6.182380e-01</td>\n",
              "      <td>6.625050e-01</td>\n",
              "      <td>4.931498e-01</td>\n",
              "      <td>6.488208e-01</td>\n",
              "      <td>5.232963e-01</td>\n",
              "      <td>3.996750e-01</td>\n",
              "      <td>5.008067e-01</td>\n",
              "      <td>4.589494e-01</td>\n",
              "      <td>1.330408e-01</td>\n",
              "      <td>1.863772e-01</td>\n",
              "      <td>5.285536e-01</td>\n",
              "      <td>1.476421e-01</td>\n",
              "      <td>4.395266e-01</td>\n",
              "      <td>3.507156e-01</td>\n",
              "      <td>2.409522e-01</td>\n",
              "      <td>9.104512e-02</td>\n",
              "      <td>7.827995e-02</td>\n",
              "      <td>77.165000</td>\n",
              "      <td>0.000000</td>\n",
              "    </tr>\n",
              "    <tr>\n",
              "      <th>max</th>\n",
              "      <td>172792.000000</td>\n",
              "      <td>2.454930e+00</td>\n",
              "      <td>2.205773e+01</td>\n",
              "      <td>9.382558e+00</td>\n",
              "      <td>1.687534e+01</td>\n",
              "      <td>3.480167e+01</td>\n",
              "      <td>7.330163e+01</td>\n",
              "      <td>1.205895e+02</td>\n",
              "      <td>2.000721e+01</td>\n",
              "      <td>1.559499e+01</td>\n",
              "      <td>2.374514e+01</td>\n",
              "      <td>1.201891e+01</td>\n",
              "      <td>7.848392e+00</td>\n",
              "      <td>7.126883e+00</td>\n",
              "      <td>1.052677e+01</td>\n",
              "      <td>8.877742e+00</td>\n",
              "      <td>1.731511e+01</td>\n",
              "      <td>9.253526e+00</td>\n",
              "      <td>5.041069e+00</td>\n",
              "      <td>5.591971e+00</td>\n",
              "      <td>3.942090e+01</td>\n",
              "      <td>2.720284e+01</td>\n",
              "      <td>1.050309e+01</td>\n",
              "      <td>2.252841e+01</td>\n",
              "      <td>4.584549e+00</td>\n",
              "      <td>7.519589e+00</td>\n",
              "      <td>3.517346e+00</td>\n",
              "      <td>3.161220e+01</td>\n",
              "      <td>3.384781e+01</td>\n",
              "      <td>25691.160000</td>\n",
              "      <td>1.000000</td>\n",
              "    </tr>\n",
              "  </tbody>\n",
              "</table>\n",
              "</div>"
            ],
            "text/plain": [
              "                Time            V1  ...         Amount          Class\n",
              "count  284807.000000  2.848070e+05  ...  284807.000000  284807.000000\n",
              "mean    94813.859575  3.919560e-15  ...      88.349619       0.001727\n",
              "std     47488.145955  1.958696e+00  ...     250.120109       0.041527\n",
              "min         0.000000 -5.640751e+01  ...       0.000000       0.000000\n",
              "25%     54201.500000 -9.203734e-01  ...       5.600000       0.000000\n",
              "50%     84692.000000  1.810880e-02  ...      22.000000       0.000000\n",
              "75%    139320.500000  1.315642e+00  ...      77.165000       0.000000\n",
              "max    172792.000000  2.454930e+00  ...   25691.160000       1.000000\n",
              "\n",
              "[8 rows x 31 columns]"
            ]
          },
          "metadata": {
            "tags": []
          },
          "execution_count": 32
        }
      ]
    },
    {
      "cell_type": "markdown",
      "metadata": {
        "id": "ZrprMiZoIjRp",
        "colab_type": "text"
      },
      "source": [
        "We can see the Descriptive View of The Dataset."
      ]
    },
    {
      "cell_type": "code",
      "metadata": {
        "id": "5m5W_HmzIjRq",
        "colab_type": "code",
        "colab": {
          "base_uri": "https://localhost:8080/",
          "height": 561
        },
        "outputId": "3d43e1a8-5b98-4547-c7d9-5237dac985ff"
      },
      "source": [
        "credit_card.isnull().sum()"
      ],
      "execution_count": 33,
      "outputs": [
        {
          "output_type": "execute_result",
          "data": {
            "text/plain": [
              "Time      0\n",
              "V1        0\n",
              "V2        0\n",
              "V3        0\n",
              "V4        0\n",
              "V5        0\n",
              "V6        0\n",
              "V7        0\n",
              "V8        0\n",
              "V9        0\n",
              "V10       0\n",
              "V11       0\n",
              "V12       0\n",
              "V13       0\n",
              "V14       0\n",
              "V15       0\n",
              "V16       0\n",
              "V17       0\n",
              "V18       0\n",
              "V19       0\n",
              "V20       0\n",
              "V21       0\n",
              "V22       0\n",
              "V23       0\n",
              "V24       0\n",
              "V25       0\n",
              "V26       0\n",
              "V27       0\n",
              "V28       0\n",
              "Amount    0\n",
              "Class     0\n",
              "dtype: int64"
            ]
          },
          "metadata": {
            "tags": []
          },
          "execution_count": 33
        }
      ]
    },
    {
      "cell_type": "markdown",
      "metadata": {
        "id": "SGQ4r-CvIjRu",
        "colab_type": "text"
      },
      "source": [
        "checking the null values seems that there are no null values "
      ]
    },
    {
      "cell_type": "code",
      "metadata": {
        "id": "4L2UcMGdIjRw",
        "colab_type": "code",
        "colab": {
          "base_uri": "https://localhost:8080/",
          "height": 663
        },
        "outputId": "2cbe3e9d-b3c7-4080-ffe6-59fc86eb35b1"
      },
      "source": [
        "credit_card.info()"
      ],
      "execution_count": 34,
      "outputs": [
        {
          "output_type": "stream",
          "text": [
            "<class 'pandas.core.frame.DataFrame'>\n",
            "RangeIndex: 284807 entries, 0 to 284806\n",
            "Data columns (total 31 columns):\n",
            " #   Column  Non-Null Count   Dtype  \n",
            "---  ------  --------------   -----  \n",
            " 0   Time    284807 non-null  float64\n",
            " 1   V1      284807 non-null  float64\n",
            " 2   V2      284807 non-null  float64\n",
            " 3   V3      284807 non-null  float64\n",
            " 4   V4      284807 non-null  float64\n",
            " 5   V5      284807 non-null  float64\n",
            " 6   V6      284807 non-null  float64\n",
            " 7   V7      284807 non-null  float64\n",
            " 8   V8      284807 non-null  float64\n",
            " 9   V9      284807 non-null  float64\n",
            " 10  V10     284807 non-null  float64\n",
            " 11  V11     284807 non-null  float64\n",
            " 12  V12     284807 non-null  float64\n",
            " 13  V13     284807 non-null  float64\n",
            " 14  V14     284807 non-null  float64\n",
            " 15  V15     284807 non-null  float64\n",
            " 16  V16     284807 non-null  float64\n",
            " 17  V17     284807 non-null  float64\n",
            " 18  V18     284807 non-null  float64\n",
            " 19  V19     284807 non-null  float64\n",
            " 20  V20     284807 non-null  float64\n",
            " 21  V21     284807 non-null  float64\n",
            " 22  V22     284807 non-null  float64\n",
            " 23  V23     284807 non-null  float64\n",
            " 24  V24     284807 non-null  float64\n",
            " 25  V25     284807 non-null  float64\n",
            " 26  V26     284807 non-null  float64\n",
            " 27  V27     284807 non-null  float64\n",
            " 28  V28     284807 non-null  float64\n",
            " 29  Amount  284807 non-null  float64\n",
            " 30  Class   284807 non-null  int64  \n",
            "dtypes: float64(30), int64(1)\n",
            "memory usage: 67.4 MB\n"
          ],
          "name": "stdout"
        }
      ]
    },
    {
      "cell_type": "code",
      "metadata": {
        "id": "YdPYmQKWIjR1",
        "colab_type": "code",
        "colab": {
          "base_uri": "https://localhost:8080/",
          "height": 102
        },
        "outputId": "49aebd28-bd94-46c9-86e6-a75b4ba069dc"
      },
      "source": [
        "credit_card.columns # returns Column Names"
      ],
      "execution_count": 35,
      "outputs": [
        {
          "output_type": "execute_result",
          "data": {
            "text/plain": [
              "Index(['Time', 'V1', 'V2', 'V3', 'V4', 'V5', 'V6', 'V7', 'V8', 'V9', 'V10',\n",
              "       'V11', 'V12', 'V13', 'V14', 'V15', 'V16', 'V17', 'V18', 'V19', 'V20',\n",
              "       'V21', 'V22', 'V23', 'V24', 'V25', 'V26', 'V27', 'V28', 'Amount',\n",
              "       'Class'],\n",
              "      dtype='object')"
            ]
          },
          "metadata": {
            "tags": []
          },
          "execution_count": 35
        }
      ]
    },
    {
      "cell_type": "code",
      "metadata": {
        "id": "MQJi4bLNIjR5",
        "colab_type": "code",
        "colab": {
          "base_uri": "https://localhost:8080/",
          "height": 34
        },
        "outputId": "414ce62b-6ed8-4ce4-80ca-b317d4d30bb1"
      },
      "source": [
        "credit_card.Class.unique() # 1 for fraud and 0 for not a fraud"
      ],
      "execution_count": 36,
      "outputs": [
        {
          "output_type": "execute_result",
          "data": {
            "text/plain": [
              "array([0, 1])"
            ]
          },
          "metadata": {
            "tags": []
          },
          "execution_count": 36
        }
      ]
    },
    {
      "cell_type": "code",
      "metadata": {
        "id": "9VOj48RdIjR9",
        "colab_type": "code",
        "colab": {
          "base_uri": "https://localhost:8080/",
          "height": 68
        },
        "outputId": "42ba2749-42c2-4de1-ef9a-6ba7471926c2"
      },
      "source": [
        "# Check the Fraud and Non Fraud sample size\n",
        "\n",
        "credit_card.Class.value_counts()\n"
      ],
      "execution_count": 37,
      "outputs": [
        {
          "output_type": "execute_result",
          "data": {
            "text/plain": [
              "0    284315\n",
              "1       492\n",
              "Name: Class, dtype: int64"
            ]
          },
          "metadata": {
            "tags": []
          },
          "execution_count": 37
        }
      ]
    },
    {
      "cell_type": "code",
      "metadata": {
        "id": "0FngzvUXIjSC",
        "colab_type": "code",
        "colab": {
          "base_uri": "https://localhost:8080/",
          "height": 51
        },
        "outputId": "15c77cf1-e16c-45cd-8dd0-1b801525f1b4"
      },
      "source": [
        "#conver the sample size into percentage\n",
        "\n",
        "print('Total Precentage of Fraud Transactions is: {}'.format(credit_card.Class.value_counts()[0]/len(credit_card)*100))\n",
        "print('Total Precentage of Non-Fraud Transactions is: {}'.format(credit_card.Class.value_counts()[1]/len(credit_card)*100))"
      ],
      "execution_count": 38,
      "outputs": [
        {
          "output_type": "stream",
          "text": [
            "Total Precentage of Fraud Transactions is: 99.82725143693798\n",
            "Total Precentage of Non-Fraud Transactions is: 0.1727485630620034\n"
          ],
          "name": "stdout"
        }
      ]
    },
    {
      "cell_type": "code",
      "metadata": {
        "id": "W936ccqbIjSJ",
        "colab_type": "code",
        "colab": {
          "base_uri": "https://localhost:8080/",
          "height": 332
        },
        "outputId": "8ec83b87-2d3a-4ba3-d16c-95c1b656cc1e"
      },
      "source": [
        "sns.countplot(x='Class',data=credit_card)\n",
        "plt.title('Class Distribution where \\n0:Fraud and 1: Not a Fraud',fontsize=15)"
      ],
      "execution_count": 39,
      "outputs": [
        {
          "output_type": "execute_result",
          "data": {
            "text/plain": [
              "Text(0.5, 1.0, 'Class Distribution where \\n0:Fraud and 1: Not a Fraud')"
            ]
          },
          "metadata": {
            "tags": []
          },
          "execution_count": 39
        },
        {
          "output_type": "display_data",
          "data": {
            "image/png": "[encoded data removed]",
            "text/plain": [
              "<Figure size 432x288 with 1 Axes>"
            ]
          },
          "metadata": {
            "tags": [],
            "needs_background": "light"
          }
        }
      ]
    },
    {
      "cell_type": "markdown",
      "metadata": {
        "id": "jCAyeGOzIjSN",
        "colab_type": "text"
      },
      "source": [
        "Dataset is imbalanced As the number of Non Fraud Transactions is higher than Fraud Transactions , in such case when the dataset is applied to Machine Learning the Algorithm becomes highly biased"
      ]
    },
    {
      "cell_type": "code",
      "metadata": {
        "id": "Io1YYNDSIjSO",
        "colab_type": "code",
        "colab": {
          "base_uri": "https://localhost:8080/",
          "height": 282
        },
        "outputId": "0c64483c-f657-47f1-9e25-2efe8991f98f"
      },
      "source": [
        "fig,ax=plt.subplots(1,2,figsize=(18,4))\n",
        "\n",
        "amount_val=credit_card.Amount.values\n",
        "time_val=credit_card.Time.values\n",
        "\n",
        "sns.distplot(amount_val,ax=ax[0])\n",
        "ax[0].set_title('Distribution of transaction amount',fontsize=14)\n",
        "ax[0].set_xlim(min(amount_val),max(amount_val))\n",
        "\n",
        "sns.distplot(time_val,ax=ax[1],color='b')\n",
        "ax[1].set_title('Distribution of tranaction time',fontsize=14)\n",
        "ax[1].set_xlim(min(time_val),max(time_val))\n",
        "\n",
        "plt.show()"
      ],
      "execution_count": 40,
      "outputs": [
        {
          "output_type": "display_data",
          "data": {
            "image/png": "[encoded data removed]",
            "text/plain": [
              "<Figure size 1296x288 with 2 Axes>"
            ]
          },
          "metadata": {
            "tags": [],
            "needs_background": "light"
          }
        }
      ]
    },
    {
      "cell_type": "markdown",
      "metadata": {
        "id": "2gk_ZPNsIjST",
        "colab_type": "text"
      },
      "source": [
        "## By the graph we can see that the features are skewed"
      ]
    },
    {
      "cell_type": "markdown",
      "metadata": {
        "id": "3h3S_zE8IjST",
        "colab_type": "text"
      },
      "source": [
        "The DataFrame Contains all the columns scaled except Transaction Time and Transaction amount we need to scale even these columns"
      ]
    },
    {
      "cell_type": "code",
      "metadata": {
        "id": "tMhMmlQtIjSU",
        "colab_type": "code",
        "colab": {
          "base_uri": "https://localhost:8080/",
          "height": 391
        },
        "outputId": "07f89b7e-6a70-4fb2-d5d7-96053e841519"
      },
      "source": [
        "from sklearn.preprocessing import StandardScaler\n",
        "\n",
        "columns=['Amount','Time']\n",
        "scaler=StandardScaler()\n",
        "\n",
        "for col in columns:\n",
        "    credit_card[col+'_scaled']=scaler.fit_transform(credit_card[col])"
      ],
      "execution_count": 41,
      "outputs": [
        {
          "output_type": "error",
          "ename": "ValueError",
          "evalue": "ignored",
          "traceback": [
            "\u001b[0;31m---------------------------------------------------------------------------\u001b[0m",
            "\u001b[0;31mValueError\u001b[0m                                Traceback (most recent call last)",
            "\u001b[0;32m<ipython-input-41-3d6ad5d6a05f>\u001b[0m in \u001b[0;36m<module>\u001b[0;34m()\u001b[0m\n\u001b[1;32m      5\u001b[0m \u001b[0;34m\u001b[0m\u001b[0m\n\u001b[1;32m      6\u001b[0m \u001b[0;32mfor\u001b[0m \u001b[0mcol\u001b[0m \u001b[0;32min\u001b[0m \u001b[0mcolumns\u001b[0m\u001b[0;34m:\u001b[0m\u001b[0;34m\u001b[0m\u001b[0;34m\u001b[0m\u001b[0m\n\u001b[0;32m----> 7\u001b[0;31m     \u001b[0mcredit_card\u001b[0m\u001b[0;34m[\u001b[0m\u001b[0mcol\u001b[0m\u001b[0;34m+\u001b[0m\u001b[0;34m'_scaled'\u001b[0m\u001b[0;34m]\u001b[0m\u001b[0;34m=\u001b[0m\u001b[0mscaler\u001b[0m\u001b[0;34m.\u001b[0m\u001b[0mfit_transform\u001b[0m\u001b[0;34m(\u001b[0m\u001b[0mcredit_card\u001b[0m\u001b[0;34m[\u001b[0m\u001b[0mcol\u001b[0m\u001b[0;34m]\u001b[0m\u001b[0;34m)\u001b[0m\u001b[0;34m\u001b[0m\u001b[0;34m\u001b[0m\u001b[0m\n\u001b[0m",
            "\u001b[0;32m/usr/local/lib/python3.6/dist-packages/sklearn/base.py\u001b[0m in \u001b[0;36mfit_transform\u001b[0;34m(self, X, y, **fit_params)\u001b[0m\n\u001b[1;32m    569\u001b[0m         \u001b[0;32mif\u001b[0m \u001b[0my\u001b[0m \u001b[0;32mis\u001b[0m \u001b[0;32mNone\u001b[0m\u001b[0;34m:\u001b[0m\u001b[0;34m\u001b[0m\u001b[0;34m\u001b[0m\u001b[0m\n\u001b[1;32m    570\u001b[0m             \u001b[0;31m# fit method of arity 1 (unsupervised transformation)\u001b[0m\u001b[0;34m\u001b[0m\u001b[0;34m\u001b[0m\u001b[0;34m\u001b[0m\u001b[0m\n\u001b[0;32m--> 571\u001b[0;31m             \u001b[0;32mreturn\u001b[0m \u001b[0mself\u001b[0m\u001b[0;34m.\u001b[0m\u001b[0mfit\u001b[0m\u001b[0;34m(\u001b[0m\u001b[0mX\u001b[0m\u001b[0;34m,\u001b[0m \u001b[0;34m**\u001b[0m\u001b[0mfit_params\u001b[0m\u001b[0;34m)\u001b[0m\u001b[0;34m.\u001b[0m\u001b[0mtransform\u001b[0m\u001b[0;34m(\u001b[0m\u001b[0mX\u001b[0m\u001b[0;34m)\u001b[0m\u001b[0;34m\u001b[0m\u001b[0;34m\u001b[0m\u001b[0m\n\u001b[0m\u001b[1;32m    572\u001b[0m         \u001b[0;32melse\u001b[0m\u001b[0;34m:\u001b[0m\u001b[0;34m\u001b[0m\u001b[0;34m\u001b[0m\u001b[0m\n\u001b[1;32m    573\u001b[0m             \u001b[0;31m# fit method of arity 2 (supervised transformation)\u001b[0m\u001b[0;34m\u001b[0m\u001b[0;34m\u001b[0m\u001b[0;34m\u001b[0m\u001b[0m\n",
            "\u001b[0;32m/usr/local/lib/python3.6/dist-packages/sklearn/preprocessing/_data.py\u001b[0m in \u001b[0;36mfit\u001b[0;34m(self, X, y)\u001b[0m\n\u001b[1;32m    667\u001b[0m         \u001b[0;31m# Reset internal state before fitting\u001b[0m\u001b[0;34m\u001b[0m\u001b[0;34m\u001b[0m\u001b[0;34m\u001b[0m\u001b[0m\n\u001b[1;32m    668\u001b[0m         \u001b[0mself\u001b[0m\u001b[0;34m.\u001b[0m\u001b[0m_reset\u001b[0m\u001b[0;34m(\u001b[0m\u001b[0;34m)\u001b[0m\u001b[0;34m\u001b[0m\u001b[0;34m\u001b[0m\u001b[0m\n\u001b[0;32m--> 669\u001b[0;31m         \u001b[0;32mreturn\u001b[0m \u001b[0mself\u001b[0m\u001b[0;34m.\u001b[0m\u001b[0mpartial_fit\u001b[0m\u001b[0;34m(\u001b[0m\u001b[0mX\u001b[0m\u001b[0;34m,\u001b[0m \u001b[0my\u001b[0m\u001b[0;34m)\u001b[0m\u001b[0;34m\u001b[0m\u001b[0;34m\u001b[0m\u001b[0m\n\u001b[0m\u001b[1;32m    670\u001b[0m \u001b[0;34m\u001b[0m\u001b[0m\n\u001b[1;32m    671\u001b[0m     \u001b[0;32mdef\u001b[0m \u001b[0mpartial_fit\u001b[0m\u001b[0;34m(\u001b[0m\u001b[0mself\u001b[0m\u001b[0;34m,\u001b[0m \u001b[0mX\u001b[0m\u001b[0;34m,\u001b[0m \u001b[0my\u001b[0m\u001b[0;34m=\u001b[0m\u001b[0;32mNone\u001b[0m\u001b[0;34m)\u001b[0m\u001b[0;34m:\u001b[0m\u001b[0;34m\u001b[0m\u001b[0;34m\u001b[0m\u001b[0m\n",
            "\u001b[0;32m/usr/local/lib/python3.6/dist-packages/sklearn/preprocessing/_data.py\u001b[0m in \u001b[0;36mpartial_fit\u001b[0;34m(self, X, y)\u001b[0m\n\u001b[1;32m    698\u001b[0m         X = check_array(X, accept_sparse=('csr', 'csc'),\n\u001b[1;32m    699\u001b[0m                         \u001b[0mestimator\u001b[0m\u001b[0;34m=\u001b[0m\u001b[0mself\u001b[0m\u001b[0;34m,\u001b[0m \u001b[0mdtype\u001b[0m\u001b[0;34m=\u001b[0m\u001b[0mFLOAT_DTYPES\u001b[0m\u001b[0;34m,\u001b[0m\u001b[0;34m\u001b[0m\u001b[0;34m\u001b[0m\u001b[0m\n\u001b[0;32m--> 700\u001b[0;31m                         force_all_finite='allow-nan')\n\u001b[0m\u001b[1;32m    701\u001b[0m \u001b[0;34m\u001b[0m\u001b[0m\n\u001b[1;32m    702\u001b[0m         \u001b[0;31m# Even in the case of `with_mean=False`, we update the mean anyway\u001b[0m\u001b[0;34m\u001b[0m\u001b[0;34m\u001b[0m\u001b[0;34m\u001b[0m\u001b[0m\n",
            "\u001b[0;32m/usr/local/lib/python3.6/dist-packages/sklearn/utils/validation.py\u001b[0m in \u001b[0;36mcheck_array\u001b[0;34m(array, accept_sparse, accept_large_sparse, dtype, order, copy, force_all_finite, ensure_2d, allow_nd, ensure_min_samples, ensure_min_features, warn_on_dtype, estimator)\u001b[0m\n\u001b[1;32m    554\u001b[0m                     \u001b[0;34m\"Reshape your data either using array.reshape(-1, 1) if \"\u001b[0m\u001b[0;34m\u001b[0m\u001b[0;34m\u001b[0m\u001b[0m\n\u001b[1;32m    555\u001b[0m                     \u001b[0;34m\"your data has a single feature or array.reshape(1, -1) \"\u001b[0m\u001b[0;34m\u001b[0m\u001b[0;34m\u001b[0m\u001b[0m\n\u001b[0;32m--> 556\u001b[0;31m                     \"if it contains a single sample.\".format(array))\n\u001b[0m\u001b[1;32m    557\u001b[0m \u001b[0;34m\u001b[0m\u001b[0m\n\u001b[1;32m    558\u001b[0m         \u001b[0;31m# in the future np.flexible dtypes will be handled like object dtypes\u001b[0m\u001b[0;34m\u001b[0m\u001b[0;34m\u001b[0m\u001b[0;34m\u001b[0m\u001b[0m\n",
            "\u001b[0;31mValueError\u001b[0m: Expected 2D array, got 1D array instead:\narray=[149.62   2.69 378.66 ...  67.88  10.   217.  ].\nReshape your data either using array.reshape(-1, 1) if your data has a single feature or array.reshape(1, -1) if it contains a single sample."
          ]
        }
      ]
    },
    {
      "cell_type": "code",
      "metadata": {
        "id": "R4NWMxgVIjSZ",
        "colab_type": "code",
        "colab": {
          "base_uri": "https://localhost:8080/",
          "height": 224
        },
        "outputId": "775c5311-108b-48be-dcbc-f3ea13a5eb08"
      },
      "source": [
        "credit_card.head()"
      ],
      "execution_count": 42,
      "outputs": [
        {
          "output_type": "execute_result",
          "data": {
            "text/html": [
              "<div>\n",
              "<style scoped>\n",
              "    .dataframe tbody tr th:only-of-type {\n",
              "        vertical-align: middle;\n",
              "    }\n",
              "\n",
              "    .dataframe tbody tr th {\n",
              "        vertical-align: top;\n",
              "    }\n",
              "\n",
              "    .dataframe thead th {\n",
              "        text-align: right;\n",
              "    }\n",
              "</style>\n",
              "<table border=\"1\" class=\"dataframe\">\n",
              "  <thead>\n",
              "    <tr style=\"text-align: right;\">\n",
              "      <th></th>\n",
              "      <th>Time</th>\n",
              "      <th>V1</th>\n",
              "      <th>V2</th>\n",
              "      <th>V3</th>\n",
              "      <th>V4</th>\n",
              "      <th>V5</th>\n",
              "      <th>V6</th>\n",
              "      <th>V7</th>\n",
              "      <th>V8</th>\n",
              "      <th>V9</th>\n",
              "      <th>V10</th>\n",
              "      <th>V11</th>\n",
              "      <th>V12</th>\n",
              "      <th>V13</th>\n",
              "      <th>V14</th>\n",
              "      <th>V15</th>\n",
              "      <th>V16</th>\n",
              "      <th>V17</th>\n",
              "      <th>V18</th>\n",
              "      <th>V19</th>\n",
              "      <th>V20</th>\n",
              "      <th>V21</th>\n",
              "      <th>V22</th>\n",
              "      <th>V23</th>\n",
              "      <th>V24</th>\n",
              "      <th>V25</th>\n",
              "      <th>V26</th>\n",
              "      <th>V27</th>\n",
              "      <th>V28</th>\n",
              "      <th>Amount</th>\n",
              "      <th>Class</th>\n",
              "    </tr>\n",
              "  </thead>\n",
              "  <tbody>\n",
              "    <tr>\n",
              "      <th>0</th>\n",
              "      <td>0.0</td>\n",
              "      <td>-1.359807</td>\n",
              "      <td>-0.072781</td>\n",
              "      <td>2.536347</td>\n",
              "      <td>1.378155</td>\n",
              "      <td>-0.338321</td>\n",
              "      <td>0.462388</td>\n",
              "      <td>0.239599</td>\n",
              "      <td>0.098698</td>\n",
              "      <td>0.363787</td>\n",
              "      <td>0.090794</td>\n",
              "      <td>-0.551600</td>\n",
              "      <td>-0.617801</td>\n",
              "      <td>-0.991390</td>\n",
              "      <td>-0.311169</td>\n",
              "      <td>1.468177</td>\n",
              "      <td>-0.470401</td>\n",
              "      <td>0.207971</td>\n",
              "      <td>0.025791</td>\n",
              "      <td>0.403993</td>\n",
              "      <td>0.251412</td>\n",
              "      <td>-0.018307</td>\n",
              "      <td>0.277838</td>\n",
              "      <td>-0.110474</td>\n",
              "      <td>0.066928</td>\n",
              "      <td>0.128539</td>\n",
              "      <td>-0.189115</td>\n",
              "      <td>0.133558</td>\n",
              "      <td>-0.021053</td>\n",
              "      <td>149.62</td>\n",
              "      <td>0</td>\n",
              "    </tr>\n",
              "    <tr>\n",
              "      <th>1</th>\n",
              "      <td>0.0</td>\n",
              "      <td>1.191857</td>\n",
              "      <td>0.266151</td>\n",
              "      <td>0.166480</td>\n",
              "      <td>0.448154</td>\n",
              "      <td>0.060018</td>\n",
              "      <td>-0.082361</td>\n",
              "      <td>-0.078803</td>\n",
              "      <td>0.085102</td>\n",
              "      <td>-0.255425</td>\n",
              "      <td>-0.166974</td>\n",
              "      <td>1.612727</td>\n",
              "      <td>1.065235</td>\n",
              "      <td>0.489095</td>\n",
              "      <td>-0.143772</td>\n",
              "      <td>0.635558</td>\n",
              "      <td>0.463917</td>\n",
              "      <td>-0.114805</td>\n",
              "      <td>-0.183361</td>\n",
              "      <td>-0.145783</td>\n",
              "      <td>-0.069083</td>\n",
              "      <td>-0.225775</td>\n",
              "      <td>-0.638672</td>\n",
              "      <td>0.101288</td>\n",
              "      <td>-0.339846</td>\n",
              "      <td>0.167170</td>\n",
              "      <td>0.125895</td>\n",
              "      <td>-0.008983</td>\n",
              "      <td>0.014724</td>\n",
              "      <td>2.69</td>\n",
              "      <td>0</td>\n",
              "    </tr>\n",
              "    <tr>\n",
              "      <th>2</th>\n",
              "      <td>1.0</td>\n",
              "      <td>-1.358354</td>\n",
              "      <td>-1.340163</td>\n",
              "      <td>1.773209</td>\n",
              "      <td>0.379780</td>\n",
              "      <td>-0.503198</td>\n",
              "      <td>1.800499</td>\n",
              "      <td>0.791461</td>\n",
              "      <td>0.247676</td>\n",
              "      <td>-1.514654</td>\n",
              "      <td>0.207643</td>\n",
              "      <td>0.624501</td>\n",
              "      <td>0.066084</td>\n",
              "      <td>0.717293</td>\n",
              "      <td>-0.165946</td>\n",
              "      <td>2.345865</td>\n",
              "      <td>-2.890083</td>\n",
              "      <td>1.109969</td>\n",
              "      <td>-0.121359</td>\n",
              "      <td>-2.261857</td>\n",
              "      <td>0.524980</td>\n",
              "      <td>0.247998</td>\n",
              "      <td>0.771679</td>\n",
              "      <td>0.909412</td>\n",
              "      <td>-0.689281</td>\n",
              "      <td>-0.327642</td>\n",
              "      <td>-0.139097</td>\n",
              "      <td>-0.055353</td>\n",
              "      <td>-0.059752</td>\n",
              "      <td>378.66</td>\n",
              "      <td>0</td>\n",
              "    </tr>\n",
              "    <tr>\n",
              "      <th>3</th>\n",
              "      <td>1.0</td>\n",
              "      <td>-0.966272</td>\n",
              "      <td>-0.185226</td>\n",
              "      <td>1.792993</td>\n",
              "      <td>-0.863291</td>\n",
              "      <td>-0.010309</td>\n",
              "      <td>1.247203</td>\n",
              "      <td>0.237609</td>\n",
              "      <td>0.377436</td>\n",
              "      <td>-1.387024</td>\n",
              "      <td>-0.054952</td>\n",
              "      <td>-0.226487</td>\n",
              "      <td>0.178228</td>\n",
              "      <td>0.507757</td>\n",
              "      <td>-0.287924</td>\n",
              "      <td>-0.631418</td>\n",
              "      <td>-1.059647</td>\n",
              "      <td>-0.684093</td>\n",
              "      <td>1.965775</td>\n",
              "      <td>-1.232622</td>\n",
              "      <td>-0.208038</td>\n",
              "      <td>-0.108300</td>\n",
              "      <td>0.005274</td>\n",
              "      <td>-0.190321</td>\n",
              "      <td>-1.175575</td>\n",
              "      <td>0.647376</td>\n",
              "      <td>-0.221929</td>\n",
              "      <td>0.062723</td>\n",
              "      <td>0.061458</td>\n",
              "      <td>123.50</td>\n",
              "      <td>0</td>\n",
              "    </tr>\n",
              "    <tr>\n",
              "      <th>4</th>\n",
              "      <td>2.0</td>\n",
              "      <td>-1.158233</td>\n",
              "      <td>0.877737</td>\n",
              "      <td>1.548718</td>\n",
              "      <td>0.403034</td>\n",
              "      <td>-0.407193</td>\n",
              "      <td>0.095921</td>\n",
              "      <td>0.592941</td>\n",
              "      <td>-0.270533</td>\n",
              "      <td>0.817739</td>\n",
              "      <td>0.753074</td>\n",
              "      <td>-0.822843</td>\n",
              "      <td>0.538196</td>\n",
              "      <td>1.345852</td>\n",
              "      <td>-1.119670</td>\n",
              "      <td>0.175121</td>\n",
              "      <td>-0.451449</td>\n",
              "      <td>-0.237033</td>\n",
              "      <td>-0.038195</td>\n",
              "      <td>0.803487</td>\n",
              "      <td>0.408542</td>\n",
              "      <td>-0.009431</td>\n",
              "      <td>0.798278</td>\n",
              "      <td>-0.137458</td>\n",
              "      <td>0.141267</td>\n",
              "      <td>-0.206010</td>\n",
              "      <td>0.502292</td>\n",
              "      <td>0.219422</td>\n",
              "      <td>0.215153</td>\n",
              "      <td>69.99</td>\n",
              "      <td>0</td>\n",
              "    </tr>\n",
              "  </tbody>\n",
              "</table>\n",
              "</div>"
            ],
            "text/plain": [
              "   Time        V1        V2        V3  ...       V27       V28  Amount  Class\n",
              "0   0.0 -1.359807 -0.072781  2.536347  ...  0.133558 -0.021053  149.62      0\n",
              "1   0.0  1.191857  0.266151  0.166480  ... -0.008983  0.014724    2.69      0\n",
              "2   1.0 -1.358354 -1.340163  1.773209  ... -0.055353 -0.059752  378.66      0\n",
              "3   1.0 -0.966272 -0.185226  1.792993  ...  0.062723  0.061458  123.50      0\n",
              "4   2.0 -1.158233  0.877737  1.548718  ...  0.219422  0.215153   69.99      0\n",
              "\n",
              "[5 rows x 31 columns]"
            ]
          },
          "metadata": {
            "tags": []
          },
          "execution_count": 42
        }
      ]
    },
    {
      "cell_type": "code",
      "metadata": {
        "id": "iQyRb_S2IjSd",
        "colab_type": "code",
        "colab": {}
      },
      "source": [
        "credit_card.drop(['Time','Amount'],inplace=True,axis=1)"
      ],
      "execution_count": 43,
      "outputs": []
    },
    {
      "cell_type": "code",
      "metadata": {
        "id": "3q1fqjQkIjSh",
        "colab_type": "code",
        "colab": {
          "base_uri": "https://localhost:8080/",
          "height": 224
        },
        "outputId": "2b264fe9-daa4-4883-a3a6-d15f2b0dcbc5"
      },
      "source": [
        "credit_card.head()"
      ],
      "execution_count": 44,
      "outputs": [
        {
          "output_type": "execute_result",
          "data": {
            "text/html": [
              "<div>\n",
              "<style scoped>\n",
              "    .dataframe tbody tr th:only-of-type {\n",
              "        vertical-align: middle;\n",
              "    }\n",
              "\n",
              "    .dataframe tbody tr th {\n",
              "        vertical-align: top;\n",
              "    }\n",
              "\n",
              "    .dataframe thead th {\n",
              "        text-align: right;\n",
              "    }\n",
              "</style>\n",
              "<table border=\"1\" class=\"dataframe\">\n",
              "  <thead>\n",
              "    <tr style=\"text-align: right;\">\n",
              "      <th></th>\n",
              "      <th>V1</th>\n",
              "      <th>V2</th>\n",
              "      <th>V3</th>\n",
              "      <th>V4</th>\n",
              "      <th>V5</th>\n",
              "      <th>V6</th>\n",
              "      <th>V7</th>\n",
              "      <th>V8</th>\n",
              "      <th>V9</th>\n",
              "      <th>V10</th>\n",
              "      <th>V11</th>\n",
              "      <th>V12</th>\n",
              "      <th>V13</th>\n",
              "      <th>V14</th>\n",
              "      <th>V15</th>\n",
              "      <th>V16</th>\n",
              "      <th>V17</th>\n",
              "      <th>V18</th>\n",
              "      <th>V19</th>\n",
              "      <th>V20</th>\n",
              "      <th>V21</th>\n",
              "      <th>V22</th>\n",
              "      <th>V23</th>\n",
              "      <th>V24</th>\n",
              "      <th>V25</th>\n",
              "      <th>V26</th>\n",
              "      <th>V27</th>\n",
              "      <th>V28</th>\n",
              "      <th>Class</th>\n",
              "    </tr>\n",
              "  </thead>\n",
              "  <tbody>\n",
              "    <tr>\n",
              "      <th>0</th>\n",
              "      <td>-1.359807</td>\n",
              "      <td>-0.072781</td>\n",
              "      <td>2.536347</td>\n",
              "      <td>1.378155</td>\n",
              "      <td>-0.338321</td>\n",
              "      <td>0.462388</td>\n",
              "      <td>0.239599</td>\n",
              "      <td>0.098698</td>\n",
              "      <td>0.363787</td>\n",
              "      <td>0.090794</td>\n",
              "      <td>-0.551600</td>\n",
              "      <td>-0.617801</td>\n",
              "      <td>-0.991390</td>\n",
              "      <td>-0.311169</td>\n",
              "      <td>1.468177</td>\n",
              "      <td>-0.470401</td>\n",
              "      <td>0.207971</td>\n",
              "      <td>0.025791</td>\n",
              "      <td>0.403993</td>\n",
              "      <td>0.251412</td>\n",
              "      <td>-0.018307</td>\n",
              "      <td>0.277838</td>\n",
              "      <td>-0.110474</td>\n",
              "      <td>0.066928</td>\n",
              "      <td>0.128539</td>\n",
              "      <td>-0.189115</td>\n",
              "      <td>0.133558</td>\n",
              "      <td>-0.021053</td>\n",
              "      <td>0</td>\n",
              "    </tr>\n",
              "    <tr>\n",
              "      <th>1</th>\n",
              "      <td>1.191857</td>\n",
              "      <td>0.266151</td>\n",
              "      <td>0.166480</td>\n",
              "      <td>0.448154</td>\n",
              "      <td>0.060018</td>\n",
              "      <td>-0.082361</td>\n",
              "      <td>-0.078803</td>\n",
              "      <td>0.085102</td>\n",
              "      <td>-0.255425</td>\n",
              "      <td>-0.166974</td>\n",
              "      <td>1.612727</td>\n",
              "      <td>1.065235</td>\n",
              "      <td>0.489095</td>\n",
              "      <td>-0.143772</td>\n",
              "      <td>0.635558</td>\n",
              "      <td>0.463917</td>\n",
              "      <td>-0.114805</td>\n",
              "      <td>-0.183361</td>\n",
              "      <td>-0.145783</td>\n",
              "      <td>-0.069083</td>\n",
              "      <td>-0.225775</td>\n",
              "      <td>-0.638672</td>\n",
              "      <td>0.101288</td>\n",
              "      <td>-0.339846</td>\n",
              "      <td>0.167170</td>\n",
              "      <td>0.125895</td>\n",
              "      <td>-0.008983</td>\n",
              "      <td>0.014724</td>\n",
              "      <td>0</td>\n",
              "    </tr>\n",
              "    <tr>\n",
              "      <th>2</th>\n",
              "      <td>-1.358354</td>\n",
              "      <td>-1.340163</td>\n",
              "      <td>1.773209</td>\n",
              "      <td>0.379780</td>\n",
              "      <td>-0.503198</td>\n",
              "      <td>1.800499</td>\n",
              "      <td>0.791461</td>\n",
              "      <td>0.247676</td>\n",
              "      <td>-1.514654</td>\n",
              "      <td>0.207643</td>\n",
              "      <td>0.624501</td>\n",
              "      <td>0.066084</td>\n",
              "      <td>0.717293</td>\n",
              "      <td>-0.165946</td>\n",
              "      <td>2.345865</td>\n",
              "      <td>-2.890083</td>\n",
              "      <td>1.109969</td>\n",
              "      <td>-0.121359</td>\n",
              "      <td>-2.261857</td>\n",
              "      <td>0.524980</td>\n",
              "      <td>0.247998</td>\n",
              "      <td>0.771679</td>\n",
              "      <td>0.909412</td>\n",
              "      <td>-0.689281</td>\n",
              "      <td>-0.327642</td>\n",
              "      <td>-0.139097</td>\n",
              "      <td>-0.055353</td>\n",
              "      <td>-0.059752</td>\n",
              "      <td>0</td>\n",
              "    </tr>\n",
              "    <tr>\n",
              "      <th>3</th>\n",
              "      <td>-0.966272</td>\n",
              "      <td>-0.185226</td>\n",
              "      <td>1.792993</td>\n",
              "      <td>-0.863291</td>\n",
              "      <td>-0.010309</td>\n",
              "      <td>1.247203</td>\n",
              "      <td>0.237609</td>\n",
              "      <td>0.377436</td>\n",
              "      <td>-1.387024</td>\n",
              "      <td>-0.054952</td>\n",
              "      <td>-0.226487</td>\n",
              "      <td>0.178228</td>\n",
              "      <td>0.507757</td>\n",
              "      <td>-0.287924</td>\n",
              "      <td>-0.631418</td>\n",
              "      <td>-1.059647</td>\n",
              "      <td>-0.684093</td>\n",
              "      <td>1.965775</td>\n",
              "      <td>-1.232622</td>\n",
              "      <td>-0.208038</td>\n",
              "      <td>-0.108300</td>\n",
              "      <td>0.005274</td>\n",
              "      <td>-0.190321</td>\n",
              "      <td>-1.175575</td>\n",
              "      <td>0.647376</td>\n",
              "      <td>-0.221929</td>\n",
              "      <td>0.062723</td>\n",
              "      <td>0.061458</td>\n",
              "      <td>0</td>\n",
              "    </tr>\n",
              "    <tr>\n",
              "      <th>4</th>\n",
              "      <td>-1.158233</td>\n",
              "      <td>0.877737</td>\n",
              "      <td>1.548718</td>\n",
              "      <td>0.403034</td>\n",
              "      <td>-0.407193</td>\n",
              "      <td>0.095921</td>\n",
              "      <td>0.592941</td>\n",
              "      <td>-0.270533</td>\n",
              "      <td>0.817739</td>\n",
              "      <td>0.753074</td>\n",
              "      <td>-0.822843</td>\n",
              "      <td>0.538196</td>\n",
              "      <td>1.345852</td>\n",
              "      <td>-1.119670</td>\n",
              "      <td>0.175121</td>\n",
              "      <td>-0.451449</td>\n",
              "      <td>-0.237033</td>\n",
              "      <td>-0.038195</td>\n",
              "      <td>0.803487</td>\n",
              "      <td>0.408542</td>\n",
              "      <td>-0.009431</td>\n",
              "      <td>0.798278</td>\n",
              "      <td>-0.137458</td>\n",
              "      <td>0.141267</td>\n",
              "      <td>-0.206010</td>\n",
              "      <td>0.502292</td>\n",
              "      <td>0.219422</td>\n",
              "      <td>0.215153</td>\n",
              "      <td>0</td>\n",
              "    </tr>\n",
              "  </tbody>\n",
              "</table>\n",
              "</div>"
            ],
            "text/plain": [
              "         V1        V2        V3        V4  ...       V26       V27       V28  Class\n",
              "0 -1.359807 -0.072781  2.536347  1.378155  ... -0.189115  0.133558 -0.021053      0\n",
              "1  1.191857  0.266151  0.166480  0.448154  ...  0.125895 -0.008983  0.014724      0\n",
              "2 -1.358354 -1.340163  1.773209  0.379780  ... -0.139097 -0.055353 -0.059752      0\n",
              "3 -0.966272 -0.185226  1.792993 -0.863291  ... -0.221929  0.062723  0.061458      0\n",
              "4 -1.158233  0.877737  1.548718  0.403034  ...  0.502292  0.219422  0.215153      0\n",
              "\n",
              "[5 rows x 29 columns]"
            ]
          },
          "metadata": {
            "tags": []
          },
          "execution_count": 44
        }
      ]
    },
    {
      "cell_type": "code",
      "metadata": {
        "id": "xX2uWtlAIjSn",
        "colab_type": "code",
        "colab": {
          "base_uri": "https://localhost:8080/",
          "height": 187
        },
        "outputId": "c22fc5ec-b467-4ca7-e3fa-e02248b1312c"
      },
      "source": [
        "from sklearn.model_selection import train_test_split\n",
        "from sklearn.model_selection import StratifiedShuffleSplit\n",
        "\n",
        "\n",
        "X=credit_card.drop('Class',axis=1)\n",
        "y=credit_card['Class']\n",
        "\n",
        "sss=StratifiedShuffleSplit(n_splits=5,random_state=None)\n",
        "\n",
        "for train_index,test_index in sss.split(X,y):\n",
        "    print('Train:',train_index,'Test:',test_index)\n",
        "    original_Xtrain,original_Xtest=X.loc[train_index],X.loc[test_index]\n",
        "    original_ytrain,original_ytest=y.loc[train_index],y.loc[test_index]\n",
        "    \n",
        "original_Xtrain = original_Xtrain.values\n",
        "original_Xtest = original_Xtest.values\n",
        "original_ytrain = original_ytrain.values\n",
        "original_ytest = original_ytest.values\n",
        "\n",
        "train_unique_label, train_counts_label = np.unique(original_ytrain, return_counts=True)\n",
        "test_unique_label, test_counts_label = np.unique(original_ytest, return_counts=True)\n",
        "print('-' * 100)\n",
        "\n",
        "print('Label Distributions: \\n')\n",
        "print(train_counts_label/ len(original_ytrain))\n",
        "print(test_counts_label/ len(original_ytest))"
      ],
      "execution_count": 45,
      "outputs": [
        {
          "output_type": "stream",
          "text": [
            "Train: [219579  12413 202347 ... 278667  89344 151204] Test: [125607   8750 244842 ... 122412   5343 206935]\n",
            "Train: [272999 193201 247611 ...   6919  75920 137565] Test: [155434 168131 283649 ...  24297  65335 115241]\n",
            "Train: [181318 190060  65113 ... 283980  12718 155750] Test: [252852  62339  11080 ... 194794  83422 167135]\n",
            "Train: [141467  74623  53827 ... 236349 144715  90593] Test: [129972 196542  98144 ... 170835  50689 213772]\n",
            "Train: [ 13985 236615 176390 ... 119191  42969  47069] Test: [ 84886  56431  65717 ... 277093 173700 198397]\n",
            "----------------------------------------------------------------------------------------------------\n",
            "Label Distributions: \n",
            "\n",
            "[0.99827173 0.00172827]\n",
            "[0.99827955 0.00172045]\n"
          ],
          "name": "stdout"
        }
      ]
    },
    {
      "cell_type": "code",
      "metadata": {
        "id": "U2PjSFtZIjSq",
        "colab_type": "code",
        "colab": {}
      },
      "source": [
        ""
      ],
      "execution_count": 45,
      "outputs": []
    },
    {
      "cell_type": "code",
      "metadata": {
        "id": "Nnuku6CeIjSt",
        "colab_type": "code",
        "colab": {
          "base_uri": "https://localhost:8080/",
          "height": 68
        },
        "outputId": "4933f09d-5955-4628-e436-6bb591c81b35"
      },
      "source": [
        "test_unique_label, test_counts_label = np.unique(original_ytest, return_counts=True)\n",
        "print(test_unique_label)\n",
        "print(test_counts_label)\n",
        "print(train_unique_label, train_counts_label)"
      ],
      "execution_count": 46,
      "outputs": [
        {
          "output_type": "stream",
          "text": [
            "[0 1]\n",
            "[28432    49]\n",
            "[0 1] [255883    443]\n"
          ],
          "name": "stdout"
        }
      ]
    },
    {
      "cell_type": "code",
      "metadata": {
        "id": "c-7-dUCYIjSx",
        "colab_type": "code",
        "colab": {
          "base_uri": "https://localhost:8080/",
          "height": 170
        },
        "outputId": "6fe60373-c509-40a9-b5e1-33b4edbd3e65"
      },
      "source": [
        "credit_card=credit_card.sample(frac=1)\n",
        "fraud_df=credit_card.loc[credit_card['Class']==1]\n",
        "non_fraud_df=credit_card.loc[credit_card['Class']==0][:492]\n",
        "\n",
        "normal_distributed_df=pd.concat([fraud_df,non_fraud_df])\n",
        "\n",
        "new_df=normal_distributed_df.sample(frac=1,random_state=42)\n",
        "print(new_df.head())\n",
        "print(new_df.shape)"
      ],
      "execution_count": 47,
      "outputs": [
        {
          "output_type": "stream",
          "text": [
            "              V1        V2        V3  ...       V27       V28  Class\n",
            "204008 -0.226996  0.306584  0.471356  ...  0.068854  0.120761      0\n",
            "29687  -2.019001  1.491270  0.005222  ...  0.626283  0.152440      1\n",
            "274650  1.955058  0.214607 -1.954177  ... -0.037786 -0.068296      0\n",
            "261473 -2.349340  1.512604 -2.647497  ... -0.736073  0.733703      1\n",
            "233258 -1.611877 -0.408410 -3.829762  ... -0.136243 -0.009852      1\n",
            "\n",
            "[5 rows x 29 columns]\n",
            "(984, 29)\n"
          ],
          "name": "stdout"
        }
      ]
    },
    {
      "cell_type": "code",
      "metadata": {
        "id": "nWhxUsVRIjS0",
        "colab_type": "code",
        "colab": {
          "base_uri": "https://localhost:8080/",
          "height": 68
        },
        "outputId": "454daeb8-9104-4dcf-f3eb-7c97c79b2556"
      },
      "source": [
        "new_df.Class.value_counts()"
      ],
      "execution_count": 48,
      "outputs": [
        {
          "output_type": "execute_result",
          "data": {
            "text/plain": [
              "1    492\n",
              "0    492\n",
              "Name: Class, dtype: int64"
            ]
          },
          "metadata": {
            "tags": []
          },
          "execution_count": 48
        }
      ]
    },
    {
      "cell_type": "code",
      "metadata": {
        "id": "JVEw9jKTIjS3",
        "colab_type": "code",
        "colab": {
          "base_uri": "https://localhost:8080/",
          "height": 312
        },
        "outputId": "dcca28fc-6ac1-4417-bc1c-20923a39151c"
      },
      "source": [
        "sns.countplot('Class',data=new_df)\n",
        "plt.title('Equallay distributed classes')"
      ],
      "execution_count": 49,
      "outputs": [
        {
          "output_type": "execute_result",
          "data": {
            "text/plain": [
              "Text(0.5, 1.0, 'Equallay distributed classes')"
            ]
          },
          "metadata": {
            "tags": []
          },
          "execution_count": 49
        },
        {
          "output_type": "display_data",
          "data": {
            "image/png": "[encoded data removed]",
            "text/plain": [
              "<Figure size 432x288 with 1 Axes>"
            ]
          },
          "metadata": {
            "tags": [],
            "needs_background": "light"
          }
        }
      ]
    },
    {
      "cell_type": "code",
      "metadata": {
        "id": "XqhqXJaUIjS8",
        "colab_type": "code",
        "colab": {
          "base_uri": "https://localhost:8080/",
          "height": 1000
        },
        "outputId": "06370b55-905c-4254-c0dc-622e9cb30e71"
      },
      "source": [
        "credit_card.corr(min_periods=0)"
      ],
      "execution_count": 50,
      "outputs": [
        {
          "output_type": "execute_result",
          "data": {
            "text/html": [
              "<div>\n",
              "<style scoped>\n",
              "    .dataframe tbody tr th:only-of-type {\n",
              "        vertical-align: middle;\n",
              "    }\n",
              "\n",
              "    .dataframe tbody tr th {\n",
              "        vertical-align: top;\n",
              "    }\n",
              "\n",
              "    .dataframe thead th {\n",
              "        text-align: right;\n",
              "    }\n",
              "</style>\n",
              "<table border=\"1\" class=\"dataframe\">\n",
              "  <thead>\n",
              "    <tr style=\"text-align: right;\">\n",
              "      <th></th>\n",
              "      <th>V1</th>\n",
              "      <th>V2</th>\n",
              "      <th>V3</th>\n",
              "      <th>V4</th>\n",
              "      <th>V5</th>\n",
              "      <th>V6</th>\n",
              "      <th>V7</th>\n",
              "      <th>V8</th>\n",
              "      <th>V9</th>\n",
              "      <th>V10</th>\n",
              "      <th>V11</th>\n",
              "      <th>V12</th>\n",
              "      <th>V13</th>\n",
              "      <th>V14</th>\n",
              "      <th>V15</th>\n",
              "      <th>V16</th>\n",
              "      <th>V17</th>\n",
              "      <th>V18</th>\n",
              "      <th>V19</th>\n",
              "      <th>V20</th>\n",
              "      <th>V21</th>\n",
              "      <th>V22</th>\n",
              "      <th>V23</th>\n",
              "      <th>V24</th>\n",
              "      <th>V25</th>\n",
              "      <th>V26</th>\n",
              "      <th>V27</th>\n",
              "      <th>V28</th>\n",
              "      <th>Class</th>\n",
              "    </tr>\n",
              "  </thead>\n",
              "  <tbody>\n",
              "    <tr>\n",
              "      <th>V1</th>\n",
              "      <td>1.000000e+00</td>\n",
              "      <td>-1.403764e-16</td>\n",
              "      <td>-5.831480e-16</td>\n",
              "      <td>-1.842700e-16</td>\n",
              "      <td>4.247449e-16</td>\n",
              "      <td>1.053418e-16</td>\n",
              "      <td>8.002428e-17</td>\n",
              "      <td>1.075046e-16</td>\n",
              "      <td>9.155757e-18</td>\n",
              "      <td>9.852744e-17</td>\n",
              "      <td>2.636570e-16</td>\n",
              "      <td>1.966439e-16</td>\n",
              "      <td>-2.755421e-17</td>\n",
              "      <td>3.955041e-16</td>\n",
              "      <td>-9.133983e-17</td>\n",
              "      <td>3.360300e-16</td>\n",
              "      <td>-3.658208e-17</td>\n",
              "      <td>1.349254e-16</td>\n",
              "      <td>1.607558e-16</td>\n",
              "      <td>2.823463e-16</td>\n",
              "      <td>-7.851139e-17</td>\n",
              "      <td>6.683358e-17</td>\n",
              "      <td>1.820590e-16</td>\n",
              "      <td>-2.919909e-17</td>\n",
              "      <td>-2.016400e-16</td>\n",
              "      <td>-1.311566e-16</td>\n",
              "      <td>1.242829e-16</td>\n",
              "      <td>2.204709e-16</td>\n",
              "      <td>-0.101347</td>\n",
              "    </tr>\n",
              "    <tr>\n",
              "      <th>V2</th>\n",
              "      <td>-1.403764e-16</td>\n",
              "      <td>1.000000e+00</td>\n",
              "      <td>-2.867342e-18</td>\n",
              "      <td>-1.330429e-16</td>\n",
              "      <td>-1.269909e-16</td>\n",
              "      <td>2.760152e-16</td>\n",
              "      <td>-1.149582e-16</td>\n",
              "      <td>-6.392051e-17</td>\n",
              "      <td>2.650021e-17</td>\n",
              "      <td>-1.394116e-16</td>\n",
              "      <td>3.243266e-16</td>\n",
              "      <td>-2.848935e-16</td>\n",
              "      <td>-5.869893e-17</td>\n",
              "      <td>-4.091735e-16</td>\n",
              "      <td>1.021365e-16</td>\n",
              "      <td>4.719870e-17</td>\n",
              "      <td>-5.852228e-16</td>\n",
              "      <td>2.207743e-16</td>\n",
              "      <td>1.407783e-17</td>\n",
              "      <td>4.509201e-17</td>\n",
              "      <td>9.896523e-17</td>\n",
              "      <td>1.982007e-16</td>\n",
              "      <td>1.422624e-16</td>\n",
              "      <td>-1.172223e-16</td>\n",
              "      <td>9.315160e-17</td>\n",
              "      <td>2.795391e-16</td>\n",
              "      <td>-4.202227e-16</td>\n",
              "      <td>-4.004878e-16</td>\n",
              "      <td>0.091289</td>\n",
              "    </tr>\n",
              "    <tr>\n",
              "      <th>V3</th>\n",
              "      <td>-5.831480e-16</td>\n",
              "      <td>-2.867342e-18</td>\n",
              "      <td>1.000000e+00</td>\n",
              "      <td>-2.105165e-16</td>\n",
              "      <td>-4.972512e-16</td>\n",
              "      <td>1.479630e-15</td>\n",
              "      <td>4.351098e-16</td>\n",
              "      <td>-1.167963e-16</td>\n",
              "      <td>9.743113e-17</td>\n",
              "      <td>2.367862e-16</td>\n",
              "      <td>1.435230e-16</td>\n",
              "      <td>1.886750e-16</td>\n",
              "      <td>-3.799576e-17</td>\n",
              "      <td>7.001177e-16</td>\n",
              "      <td>-7.477240e-17</td>\n",
              "      <td>6.253623e-16</td>\n",
              "      <td>1.599188e-16</td>\n",
              "      <td>3.101599e-16</td>\n",
              "      <td>3.550616e-16</td>\n",
              "      <td>9.711628e-17</td>\n",
              "      <td>-1.369934e-16</td>\n",
              "      <td>-2.427177e-16</td>\n",
              "      <td>-5.833970e-17</td>\n",
              "      <td>1.774568e-17</td>\n",
              "      <td>1.570075e-16</td>\n",
              "      <td>-2.174994e-16</td>\n",
              "      <td>5.751471e-16</td>\n",
              "      <td>7.250300e-16</td>\n",
              "      <td>-0.192961</td>\n",
              "    </tr>\n",
              "    <tr>\n",
              "      <th>V4</th>\n",
              "      <td>-1.842700e-16</td>\n",
              "      <td>-1.330429e-16</td>\n",
              "      <td>-2.105165e-16</td>\n",
              "      <td>1.000000e+00</td>\n",
              "      <td>-1.893541e-15</td>\n",
              "      <td>-4.777308e-16</td>\n",
              "      <td>-1.147186e-16</td>\n",
              "      <td>5.984768e-16</td>\n",
              "      <td>6.050286e-16</td>\n",
              "      <td>-1.139634e-16</td>\n",
              "      <td>-3.107312e-16</td>\n",
              "      <td>-2.282730e-16</td>\n",
              "      <td>1.297300e-17</td>\n",
              "      <td>-1.139547e-16</td>\n",
              "      <td>1.333619e-16</td>\n",
              "      <td>-1.333083e-16</td>\n",
              "      <td>-4.022445e-16</td>\n",
              "      <td>-4.038962e-17</td>\n",
              "      <td>-2.932542e-16</td>\n",
              "      <td>-2.097074e-16</td>\n",
              "      <td>-5.959701e-17</td>\n",
              "      <td>2.304654e-16</td>\n",
              "      <td>1.601821e-16</td>\n",
              "      <td>1.581056e-16</td>\n",
              "      <td>6.467948e-16</td>\n",
              "      <td>-4.301823e-16</td>\n",
              "      <td>-1.085105e-16</td>\n",
              "      <td>-6.260611e-17</td>\n",
              "      <td>0.133447</td>\n",
              "    </tr>\n",
              "    <tr>\n",
              "      <th>V5</th>\n",
              "      <td>4.247449e-16</td>\n",
              "      <td>-1.269909e-16</td>\n",
              "      <td>-4.972512e-16</td>\n",
              "      <td>-1.893541e-15</td>\n",
              "      <td>1.000000e+00</td>\n",
              "      <td>7.093444e-16</td>\n",
              "      <td>-1.398699e-16</td>\n",
              "      <td>4.953623e-16</td>\n",
              "      <td>4.879068e-16</td>\n",
              "      <td>1.262625e-16</td>\n",
              "      <td>7.285414e-16</td>\n",
              "      <td>3.314392e-16</td>\n",
              "      <td>-2.977560e-16</td>\n",
              "      <td>1.618379e-16</td>\n",
              "      <td>1.813301e-16</td>\n",
              "      <td>6.399907e-16</td>\n",
              "      <td>4.903337e-16</td>\n",
              "      <td>3.719578e-16</td>\n",
              "      <td>-9.856777e-17</td>\n",
              "      <td>-6.120970e-17</td>\n",
              "      <td>-1.913203e-16</td>\n",
              "      <td>4.773694e-17</td>\n",
              "      <td>-1.045154e-16</td>\n",
              "      <td>-9.905614e-16</td>\n",
              "      <td>-6.107390e-17</td>\n",
              "      <td>3.421899e-16</td>\n",
              "      <td>7.479924e-16</td>\n",
              "      <td>-1.167395e-16</td>\n",
              "      <td>-0.094974</td>\n",
              "    </tr>\n",
              "    <tr>\n",
              "      <th>V6</th>\n",
              "      <td>1.053418e-16</td>\n",
              "      <td>2.760152e-16</td>\n",
              "      <td>1.479630e-15</td>\n",
              "      <td>-4.777308e-16</td>\n",
              "      <td>7.093444e-16</td>\n",
              "      <td>1.000000e+00</td>\n",
              "      <td>4.738610e-17</td>\n",
              "      <td>-3.588934e-16</td>\n",
              "      <td>-1.686765e-16</td>\n",
              "      <td>1.352701e-16</td>\n",
              "      <td>8.573623e-16</td>\n",
              "      <td>2.615346e-16</td>\n",
              "      <td>-1.606207e-16</td>\n",
              "      <td>3.355413e-16</td>\n",
              "      <td>-5.416561e-17</td>\n",
              "      <td>-6.525647e-17</td>\n",
              "      <td>9.779200e-17</td>\n",
              "      <td>5.875773e-17</td>\n",
              "      <td>9.424989e-17</td>\n",
              "      <td>-2.089656e-17</td>\n",
              "      <td>-1.658585e-16</td>\n",
              "      <td>-1.469715e-16</td>\n",
              "      <td>-5.913206e-19</td>\n",
              "      <td>-1.070387e-15</td>\n",
              "      <td>5.411748e-16</td>\n",
              "      <td>-2.427295e-16</td>\n",
              "      <td>-2.737351e-16</td>\n",
              "      <td>5.586369e-16</td>\n",
              "      <td>-0.043643</td>\n",
              "    </tr>\n",
              "    <tr>\n",
              "      <th>V7</th>\n",
              "      <td>8.002428e-17</td>\n",
              "      <td>-1.149582e-16</td>\n",
              "      <td>4.351098e-16</td>\n",
              "      <td>-1.147186e-16</td>\n",
              "      <td>-1.398699e-16</td>\n",
              "      <td>4.738610e-17</td>\n",
              "      <td>1.000000e+00</td>\n",
              "      <td>-7.446156e-17</td>\n",
              "      <td>-9.481626e-18</td>\n",
              "      <td>3.425617e-16</td>\n",
              "      <td>-3.662953e-16</td>\n",
              "      <td>5.745100e-16</td>\n",
              "      <td>-4.087352e-17</td>\n",
              "      <td>4.300404e-17</td>\n",
              "      <td>-7.717499e-17</td>\n",
              "      <td>4.953985e-16</td>\n",
              "      <td>5.394152e-16</td>\n",
              "      <td>2.099802e-16</td>\n",
              "      <td>-5.419383e-17</td>\n",
              "      <td>2.671092e-16</td>\n",
              "      <td>3.077575e-17</td>\n",
              "      <td>-6.163546e-16</td>\n",
              "      <td>-3.773001e-16</td>\n",
              "      <td>-6.684209e-17</td>\n",
              "      <td>1.110945e-16</td>\n",
              "      <td>-8.579745e-16</td>\n",
              "      <td>-3.470094e-16</td>\n",
              "      <td>-1.956991e-18</td>\n",
              "      <td>-0.187257</td>\n",
              "    </tr>\n",
              "    <tr>\n",
              "      <th>V8</th>\n",
              "      <td>1.075046e-16</td>\n",
              "      <td>-6.392051e-17</td>\n",
              "      <td>-1.167963e-16</td>\n",
              "      <td>5.984768e-16</td>\n",
              "      <td>4.953623e-16</td>\n",
              "      <td>-3.588934e-16</td>\n",
              "      <td>-7.446156e-17</td>\n",
              "      <td>1.000000e+00</td>\n",
              "      <td>4.498176e-16</td>\n",
              "      <td>-5.972626e-17</td>\n",
              "      <td>2.781916e-17</td>\n",
              "      <td>-2.436086e-16</td>\n",
              "      <td>-3.059271e-16</td>\n",
              "      <td>-2.285584e-16</td>\n",
              "      <td>1.136924e-16</td>\n",
              "      <td>1.745004e-16</td>\n",
              "      <td>-3.827530e-16</td>\n",
              "      <td>-2.920605e-16</td>\n",
              "      <td>-3.495247e-16</td>\n",
              "      <td>4.204059e-17</td>\n",
              "      <td>-1.143544e-16</td>\n",
              "      <td>4.296296e-17</td>\n",
              "      <td>2.228045e-16</td>\n",
              "      <td>-2.444905e-16</td>\n",
              "      <td>-1.507978e-16</td>\n",
              "      <td>-3.306971e-18</td>\n",
              "      <td>3.044463e-16</td>\n",
              "      <td>-5.024613e-16</td>\n",
              "      <td>0.019875</td>\n",
              "    </tr>\n",
              "    <tr>\n",
              "      <th>V9</th>\n",
              "      <td>9.155757e-18</td>\n",
              "      <td>2.650021e-17</td>\n",
              "      <td>9.743113e-17</td>\n",
              "      <td>6.050286e-16</td>\n",
              "      <td>4.879068e-16</td>\n",
              "      <td>-1.686765e-16</td>\n",
              "      <td>-9.481626e-18</td>\n",
              "      <td>4.498176e-16</td>\n",
              "      <td>1.000000e+00</td>\n",
              "      <td>-4.231547e-16</td>\n",
              "      <td>3.040426e-16</td>\n",
              "      <td>-1.207458e-15</td>\n",
              "      <td>9.422094e-16</td>\n",
              "      <td>8.717059e-16</td>\n",
              "      <td>-8.881834e-16</td>\n",
              "      <td>-5.088975e-16</td>\n",
              "      <td>7.302807e-16</td>\n",
              "      <td>6.733655e-17</td>\n",
              "      <td>1.260958e-16</td>\n",
              "      <td>-3.718294e-16</td>\n",
              "      <td>1.550613e-16</td>\n",
              "      <td>-1.844501e-16</td>\n",
              "      <td>-8.637519e-17</td>\n",
              "      <td>-2.867423e-16</td>\n",
              "      <td>2.524695e-16</td>\n",
              "      <td>-1.151013e-16</td>\n",
              "      <td>-1.803879e-16</td>\n",
              "      <td>7.983387e-16</td>\n",
              "      <td>-0.097733</td>\n",
              "    </tr>\n",
              "    <tr>\n",
              "      <th>V10</th>\n",
              "      <td>9.852744e-17</td>\n",
              "      <td>-1.394116e-16</td>\n",
              "      <td>2.367862e-16</td>\n",
              "      <td>-1.139634e-16</td>\n",
              "      <td>1.262625e-16</td>\n",
              "      <td>1.352701e-16</td>\n",
              "      <td>3.425617e-16</td>\n",
              "      <td>-5.972626e-17</td>\n",
              "      <td>-4.231547e-16</td>\n",
              "      <td>1.000000e+00</td>\n",
              "      <td>-3.544739e-16</td>\n",
              "      <td>8.274546e-16</td>\n",
              "      <td>-4.405419e-16</td>\n",
              "      <td>7.377713e-16</td>\n",
              "      <td>4.341490e-16</td>\n",
              "      <td>1.632349e-16</td>\n",
              "      <td>7.221206e-16</td>\n",
              "      <td>5.294227e-16</td>\n",
              "      <td>2.896029e-18</td>\n",
              "      <td>-1.346397e-15</td>\n",
              "      <td>1.071395e-15</td>\n",
              "      <td>-2.717118e-16</td>\n",
              "      <td>2.654488e-16</td>\n",
              "      <td>-7.343465e-17</td>\n",
              "      <td>-5.132965e-16</td>\n",
              "      <td>-3.645586e-16</td>\n",
              "      <td>-2.786457e-16</td>\n",
              "      <td>2.615795e-16</td>\n",
              "      <td>-0.216883</td>\n",
              "    </tr>\n",
              "    <tr>\n",
              "      <th>V11</th>\n",
              "      <td>2.636570e-16</td>\n",
              "      <td>3.243266e-16</td>\n",
              "      <td>1.435230e-16</td>\n",
              "      <td>-3.107312e-16</td>\n",
              "      <td>7.285414e-16</td>\n",
              "      <td>8.573623e-16</td>\n",
              "      <td>-3.662953e-16</td>\n",
              "      <td>2.781916e-17</td>\n",
              "      <td>3.040426e-16</td>\n",
              "      <td>-3.544739e-16</td>\n",
              "      <td>1.000000e+00</td>\n",
              "      <td>-6.791228e-16</td>\n",
              "      <td>4.132329e-16</td>\n",
              "      <td>-1.280390e-16</td>\n",
              "      <td>2.109559e-16</td>\n",
              "      <td>1.524022e-16</td>\n",
              "      <td>5.997600e-16</td>\n",
              "      <td>1.232197e-16</td>\n",
              "      <td>-1.091724e-15</td>\n",
              "      <td>-2.012273e-16</td>\n",
              "      <td>4.474119e-17</td>\n",
              "      <td>-2.308434e-17</td>\n",
              "      <td>1.526261e-16</td>\n",
              "      <td>1.651837e-15</td>\n",
              "      <td>-6.350467e-16</td>\n",
              "      <td>-1.353745e-16</td>\n",
              "      <td>-1.311237e-16</td>\n",
              "      <td>-3.275280e-16</td>\n",
              "      <td>0.154876</td>\n",
              "    </tr>\n",
              "    <tr>\n",
              "      <th>V12</th>\n",
              "      <td>1.966439e-16</td>\n",
              "      <td>-2.848935e-16</td>\n",
              "      <td>1.886750e-16</td>\n",
              "      <td>-2.282730e-16</td>\n",
              "      <td>3.314392e-16</td>\n",
              "      <td>2.615346e-16</td>\n",
              "      <td>5.745100e-16</td>\n",
              "      <td>-2.436086e-16</td>\n",
              "      <td>-1.207458e-15</td>\n",
              "      <td>8.274546e-16</td>\n",
              "      <td>-6.791228e-16</td>\n",
              "      <td>1.000000e+00</td>\n",
              "      <td>-2.293703e-14</td>\n",
              "      <td>4.251683e-16</td>\n",
              "      <td>-2.814726e-16</td>\n",
              "      <td>4.817173e-16</td>\n",
              "      <td>-2.248671e-16</td>\n",
              "      <td>-6.217747e-16</td>\n",
              "      <td>1.581288e-16</td>\n",
              "      <td>2.648694e-16</td>\n",
              "      <td>6.932733e-16</td>\n",
              "      <td>-6.816999e-17</td>\n",
              "      <td>2.920736e-16</td>\n",
              "      <td>4.396576e-16</td>\n",
              "      <td>2.175445e-17</td>\n",
              "      <td>1.706657e-16</td>\n",
              "      <td>-2.941239e-16</td>\n",
              "      <td>7.350239e-16</td>\n",
              "      <td>-0.260593</td>\n",
              "    </tr>\n",
              "    <tr>\n",
              "      <th>V13</th>\n",
              "      <td>-2.755421e-17</td>\n",
              "      <td>-5.869893e-17</td>\n",
              "      <td>-3.799576e-17</td>\n",
              "      <td>1.297300e-17</td>\n",
              "      <td>-2.977560e-16</td>\n",
              "      <td>-1.606207e-16</td>\n",
              "      <td>-4.087352e-17</td>\n",
              "      <td>-3.059271e-16</td>\n",
              "      <td>9.422094e-16</td>\n",
              "      <td>-4.405419e-16</td>\n",
              "      <td>4.132329e-16</td>\n",
              "      <td>-2.293703e-14</td>\n",
              "      <td>1.000000e+00</td>\n",
              "      <td>1.393456e-15</td>\n",
              "      <td>-1.020742e-16</td>\n",
              "      <td>4.375477e-16</td>\n",
              "      <td>1.009301e-16</td>\n",
              "      <td>2.408963e-16</td>\n",
              "      <td>-1.237206e-16</td>\n",
              "      <td>4.208201e-17</td>\n",
              "      <td>1.528561e-16</td>\n",
              "      <td>-3.408645e-17</td>\n",
              "      <td>-7.086807e-16</td>\n",
              "      <td>-6.700895e-16</td>\n",
              "      <td>-8.794873e-17</td>\n",
              "      <td>-1.270324e-16</td>\n",
              "      <td>-5.260129e-16</td>\n",
              "      <td>1.100173e-15</td>\n",
              "      <td>-0.004570</td>\n",
              "    </tr>\n",
              "    <tr>\n",
              "      <th>V14</th>\n",
              "      <td>3.955041e-16</td>\n",
              "      <td>-4.091735e-16</td>\n",
              "      <td>7.001177e-16</td>\n",
              "      <td>-1.139547e-16</td>\n",
              "      <td>1.618379e-16</td>\n",
              "      <td>3.355413e-16</td>\n",
              "      <td>4.300404e-17</td>\n",
              "      <td>-2.285584e-16</td>\n",
              "      <td>8.717059e-16</td>\n",
              "      <td>7.377713e-16</td>\n",
              "      <td>-1.280390e-16</td>\n",
              "      <td>4.251683e-16</td>\n",
              "      <td>1.393456e-15</td>\n",
              "      <td>1.000000e+00</td>\n",
              "      <td>-3.483701e-16</td>\n",
              "      <td>-7.997994e-16</td>\n",
              "      <td>1.120729e-15</td>\n",
              "      <td>-2.231945e-16</td>\n",
              "      <td>2.325941e-16</td>\n",
              "      <td>1.017779e-16</td>\n",
              "      <td>-2.408429e-16</td>\n",
              "      <td>5.456476e-16</td>\n",
              "      <td>1.948318e-16</td>\n",
              "      <td>5.270530e-17</td>\n",
              "      <td>-3.445588e-17</td>\n",
              "      <td>-2.033280e-17</td>\n",
              "      <td>1.449516e-17</td>\n",
              "      <td>2.383871e-15</td>\n",
              "      <td>-0.302544</td>\n",
              "    </tr>\n",
              "    <tr>\n",
              "      <th>V15</th>\n",
              "      <td>-9.133983e-17</td>\n",
              "      <td>1.021365e-16</td>\n",
              "      <td>-7.477240e-17</td>\n",
              "      <td>1.333619e-16</td>\n",
              "      <td>1.813301e-16</td>\n",
              "      <td>-5.416561e-17</td>\n",
              "      <td>-7.717499e-17</td>\n",
              "      <td>1.136924e-16</td>\n",
              "      <td>-8.881834e-16</td>\n",
              "      <td>4.341490e-16</td>\n",
              "      <td>2.109559e-16</td>\n",
              "      <td>-2.814726e-16</td>\n",
              "      <td>-1.020742e-16</td>\n",
              "      <td>-3.483701e-16</td>\n",
              "      <td>1.000000e+00</td>\n",
              "      <td>9.910483e-16</td>\n",
              "      <td>-5.740165e-16</td>\n",
              "      <td>6.666791e-16</td>\n",
              "      <td>-1.408036e-15</td>\n",
              "      <td>1.821846e-16</td>\n",
              "      <td>4.584522e-17</td>\n",
              "      <td>-3.272752e-16</td>\n",
              "      <td>1.122191e-16</td>\n",
              "      <td>-4.851944e-16</td>\n",
              "      <td>2.175926e-16</td>\n",
              "      <td>9.641791e-17</td>\n",
              "      <td>-1.284225e-15</td>\n",
              "      <td>-1.104523e-15</td>\n",
              "      <td>-0.004223</td>\n",
              "    </tr>\n",
              "    <tr>\n",
              "      <th>V16</th>\n",
              "      <td>3.360300e-16</td>\n",
              "      <td>4.719870e-17</td>\n",
              "      <td>6.253623e-16</td>\n",
              "      <td>-1.333083e-16</td>\n",
              "      <td>6.399907e-16</td>\n",
              "      <td>-6.525647e-17</td>\n",
              "      <td>4.953985e-16</td>\n",
              "      <td>1.745004e-16</td>\n",
              "      <td>-5.088975e-16</td>\n",
              "      <td>1.632349e-16</td>\n",
              "      <td>1.524022e-16</td>\n",
              "      <td>4.817173e-16</td>\n",
              "      <td>4.375477e-16</td>\n",
              "      <td>-7.997994e-16</td>\n",
              "      <td>9.910483e-16</td>\n",
              "      <td>1.000000e+00</td>\n",
              "      <td>1.974191e-15</td>\n",
              "      <td>-2.712709e-15</td>\n",
              "      <td>1.109522e-15</td>\n",
              "      <td>2.857207e-16</td>\n",
              "      <td>-4.596301e-16</td>\n",
              "      <td>3.024802e-16</td>\n",
              "      <td>7.001570e-16</td>\n",
              "      <td>-3.209550e-16</td>\n",
              "      <td>-3.423229e-16</td>\n",
              "      <td>-4.414570e-16</td>\n",
              "      <td>6.897689e-16</td>\n",
              "      <td>7.003007e-16</td>\n",
              "      <td>-0.196539</td>\n",
              "    </tr>\n",
              "    <tr>\n",
              "      <th>V17</th>\n",
              "      <td>-3.658208e-17</td>\n",
              "      <td>-5.852228e-16</td>\n",
              "      <td>1.599188e-16</td>\n",
              "      <td>-4.022445e-16</td>\n",
              "      <td>4.903337e-16</td>\n",
              "      <td>9.779200e-17</td>\n",
              "      <td>5.394152e-16</td>\n",
              "      <td>-3.827530e-16</td>\n",
              "      <td>7.302807e-16</td>\n",
              "      <td>7.221206e-16</td>\n",
              "      <td>5.997600e-16</td>\n",
              "      <td>-2.248671e-16</td>\n",
              "      <td>1.009301e-16</td>\n",
              "      <td>1.120729e-15</td>\n",
              "      <td>-5.740165e-16</td>\n",
              "      <td>1.974191e-15</td>\n",
              "      <td>1.000000e+00</td>\n",
              "      <td>-5.264404e-15</td>\n",
              "      <td>3.605128e-16</td>\n",
              "      <td>-9.195043e-16</td>\n",
              "      <td>-1.027588e-15</td>\n",
              "      <td>-3.437693e-16</td>\n",
              "      <td>4.947570e-16</td>\n",
              "      <td>-1.563154e-16</td>\n",
              "      <td>9.382251e-17</td>\n",
              "      <td>2.465084e-16</td>\n",
              "      <td>5.632323e-16</td>\n",
              "      <td>-8.862355e-17</td>\n",
              "      <td>-0.326481</td>\n",
              "    </tr>\n",
              "    <tr>\n",
              "      <th>V18</th>\n",
              "      <td>1.349254e-16</td>\n",
              "      <td>2.207743e-16</td>\n",
              "      <td>3.101599e-16</td>\n",
              "      <td>-4.038962e-17</td>\n",
              "      <td>3.719578e-16</td>\n",
              "      <td>5.875773e-17</td>\n",
              "      <td>2.099802e-16</td>\n",
              "      <td>-2.920605e-16</td>\n",
              "      <td>6.733655e-17</td>\n",
              "      <td>5.294227e-16</td>\n",
              "      <td>1.232197e-16</td>\n",
              "      <td>-6.217747e-16</td>\n",
              "      <td>2.408963e-16</td>\n",
              "      <td>-2.231945e-16</td>\n",
              "      <td>6.666791e-16</td>\n",
              "      <td>-2.712709e-15</td>\n",
              "      <td>-5.264404e-15</td>\n",
              "      <td>1.000000e+00</td>\n",
              "      <td>-2.675301e-15</td>\n",
              "      <td>-4.257764e-16</td>\n",
              "      <td>-1.186950e-15</td>\n",
              "      <td>-5.554236e-16</td>\n",
              "      <td>-2.988762e-16</td>\n",
              "      <td>-1.807923e-16</td>\n",
              "      <td>-2.227161e-16</td>\n",
              "      <td>3.176817e-16</td>\n",
              "      <td>2.359176e-16</td>\n",
              "      <td>8.103605e-16</td>\n",
              "      <td>-0.111485</td>\n",
              "    </tr>\n",
              "    <tr>\n",
              "      <th>V19</th>\n",
              "      <td>1.607558e-16</td>\n",
              "      <td>1.407783e-17</td>\n",
              "      <td>3.550616e-16</td>\n",
              "      <td>-2.932542e-16</td>\n",
              "      <td>-9.856777e-17</td>\n",
              "      <td>9.424989e-17</td>\n",
              "      <td>-5.419383e-17</td>\n",
              "      <td>-3.495247e-16</td>\n",
              "      <td>1.260958e-16</td>\n",
              "      <td>2.896029e-18</td>\n",
              "      <td>-1.091724e-15</td>\n",
              "      <td>1.581288e-16</td>\n",
              "      <td>-1.237206e-16</td>\n",
              "      <td>2.325941e-16</td>\n",
              "      <td>-1.408036e-15</td>\n",
              "      <td>1.109522e-15</td>\n",
              "      <td>3.605128e-16</td>\n",
              "      <td>-2.675301e-15</td>\n",
              "      <td>1.000000e+00</td>\n",
              "      <td>3.008583e-16</td>\n",
              "      <td>6.190160e-16</td>\n",
              "      <td>-1.035426e-15</td>\n",
              "      <td>6.740032e-16</td>\n",
              "      <td>-9.023028e-17</td>\n",
              "      <td>8.565208e-16</td>\n",
              "      <td>5.401140e-16</td>\n",
              "      <td>-1.353059e-16</td>\n",
              "      <td>-1.358783e-15</td>\n",
              "      <td>0.034783</td>\n",
              "    </tr>\n",
              "    <tr>\n",
              "      <th>V20</th>\n",
              "      <td>2.823463e-16</td>\n",
              "      <td>4.509201e-17</td>\n",
              "      <td>9.711628e-17</td>\n",
              "      <td>-2.097074e-16</td>\n",
              "      <td>-6.120970e-17</td>\n",
              "      <td>-2.089656e-17</td>\n",
              "      <td>2.671092e-16</td>\n",
              "      <td>4.204059e-17</td>\n",
              "      <td>-3.718294e-16</td>\n",
              "      <td>-1.346397e-15</td>\n",
              "      <td>-2.012273e-16</td>\n",
              "      <td>2.648694e-16</td>\n",
              "      <td>4.208201e-17</td>\n",
              "      <td>1.017779e-16</td>\n",
              "      <td>1.821846e-16</td>\n",
              "      <td>2.857207e-16</td>\n",
              "      <td>-9.195043e-16</td>\n",
              "      <td>-4.257764e-16</td>\n",
              "      <td>3.008583e-16</td>\n",
              "      <td>1.000000e+00</td>\n",
              "      <td>-9.944130e-16</td>\n",
              "      <td>8.905370e-16</td>\n",
              "      <td>-6.648020e-17</td>\n",
              "      <td>2.066808e-16</td>\n",
              "      <td>3.800692e-17</td>\n",
              "      <td>-3.209198e-16</td>\n",
              "      <td>-1.218078e-15</td>\n",
              "      <td>-3.287179e-16</td>\n",
              "      <td>0.020090</td>\n",
              "    </tr>\n",
              "    <tr>\n",
              "      <th>V21</th>\n",
              "      <td>-7.851139e-17</td>\n",
              "      <td>9.896523e-17</td>\n",
              "      <td>-1.369934e-16</td>\n",
              "      <td>-5.959701e-17</td>\n",
              "      <td>-1.913203e-16</td>\n",
              "      <td>-1.658585e-16</td>\n",
              "      <td>3.077575e-17</td>\n",
              "      <td>-1.143544e-16</td>\n",
              "      <td>1.550613e-16</td>\n",
              "      <td>1.071395e-15</td>\n",
              "      <td>4.474119e-17</td>\n",
              "      <td>6.932733e-16</td>\n",
              "      <td>1.528561e-16</td>\n",
              "      <td>-2.408429e-16</td>\n",
              "      <td>4.584522e-17</td>\n",
              "      <td>-4.596301e-16</td>\n",
              "      <td>-1.027588e-15</td>\n",
              "      <td>-1.186950e-15</td>\n",
              "      <td>6.190160e-16</td>\n",
              "      <td>-9.944130e-16</td>\n",
              "      <td>1.000000e+00</td>\n",
              "      <td>3.495915e-15</td>\n",
              "      <td>5.907998e-16</td>\n",
              "      <td>1.446766e-16</td>\n",
              "      <td>-2.690088e-17</td>\n",
              "      <td>-4.776631e-16</td>\n",
              "      <td>-1.534126e-15</td>\n",
              "      <td>1.228713e-16</td>\n",
              "      <td>0.040413</td>\n",
              "    </tr>\n",
              "    <tr>\n",
              "      <th>V22</th>\n",
              "      <td>6.683358e-17</td>\n",
              "      <td>1.982007e-16</td>\n",
              "      <td>-2.427177e-16</td>\n",
              "      <td>2.304654e-16</td>\n",
              "      <td>4.773694e-17</td>\n",
              "      <td>-1.469715e-16</td>\n",
              "      <td>-6.163546e-16</td>\n",
              "      <td>4.296296e-17</td>\n",
              "      <td>-1.844501e-16</td>\n",
              "      <td>-2.717118e-16</td>\n",
              "      <td>-2.308434e-17</td>\n",
              "      <td>-6.816999e-17</td>\n",
              "      <td>-3.408645e-17</td>\n",
              "      <td>5.456476e-16</td>\n",
              "      <td>-3.272752e-16</td>\n",
              "      <td>3.024802e-16</td>\n",
              "      <td>-3.437693e-16</td>\n",
              "      <td>-5.554236e-16</td>\n",
              "      <td>-1.035426e-15</td>\n",
              "      <td>8.905370e-16</td>\n",
              "      <td>3.495915e-15</td>\n",
              "      <td>1.000000e+00</td>\n",
              "      <td>2.992108e-16</td>\n",
              "      <td>4.175445e-17</td>\n",
              "      <td>-9.161361e-16</td>\n",
              "      <td>-3.495795e-17</td>\n",
              "      <td>1.355925e-16</td>\n",
              "      <td>-4.903204e-16</td>\n",
              "      <td>0.000805</td>\n",
              "    </tr>\n",
              "    <tr>\n",
              "      <th>V23</th>\n",
              "      <td>1.820590e-16</td>\n",
              "      <td>1.422624e-16</td>\n",
              "      <td>-5.833970e-17</td>\n",
              "      <td>1.601821e-16</td>\n",
              "      <td>-1.045154e-16</td>\n",
              "      <td>-5.913206e-19</td>\n",
              "      <td>-3.773001e-16</td>\n",
              "      <td>2.228045e-16</td>\n",
              "      <td>-8.637519e-17</td>\n",
              "      <td>2.654488e-16</td>\n",
              "      <td>1.526261e-16</td>\n",
              "      <td>2.920736e-16</td>\n",
              "      <td>-7.086807e-16</td>\n",
              "      <td>1.948318e-16</td>\n",
              "      <td>1.122191e-16</td>\n",
              "      <td>7.001570e-16</td>\n",
              "      <td>4.947570e-16</td>\n",
              "      <td>-2.988762e-16</td>\n",
              "      <td>6.740032e-16</td>\n",
              "      <td>-6.648020e-17</td>\n",
              "      <td>5.907998e-16</td>\n",
              "      <td>2.992108e-16</td>\n",
              "      <td>1.000000e+00</td>\n",
              "      <td>5.313985e-17</td>\n",
              "      <td>-6.272112e-16</td>\n",
              "      <td>1.274754e-15</td>\n",
              "      <td>4.403904e-16</td>\n",
              "      <td>1.408056e-15</td>\n",
              "      <td>-0.002685</td>\n",
              "    </tr>\n",
              "    <tr>\n",
              "      <th>V24</th>\n",
              "      <td>-2.919909e-17</td>\n",
              "      <td>-1.172223e-16</td>\n",
              "      <td>1.774568e-17</td>\n",
              "      <td>1.581056e-16</td>\n",
              "      <td>-9.905614e-16</td>\n",
              "      <td>-1.070387e-15</td>\n",
              "      <td>-6.684209e-17</td>\n",
              "      <td>-2.444905e-16</td>\n",
              "      <td>-2.867423e-16</td>\n",
              "      <td>-7.343465e-17</td>\n",
              "      <td>1.651837e-15</td>\n",
              "      <td>4.396576e-16</td>\n",
              "      <td>-6.700895e-16</td>\n",
              "      <td>5.270530e-17</td>\n",
              "      <td>-4.851944e-16</td>\n",
              "      <td>-3.209550e-16</td>\n",
              "      <td>-1.563154e-16</td>\n",
              "      <td>-1.807923e-16</td>\n",
              "      <td>-9.023028e-17</td>\n",
              "      <td>2.066808e-16</td>\n",
              "      <td>1.446766e-16</td>\n",
              "      <td>4.175445e-17</td>\n",
              "      <td>5.313985e-17</td>\n",
              "      <td>1.000000e+00</td>\n",
              "      <td>1.229147e-15</td>\n",
              "      <td>2.055357e-16</td>\n",
              "      <td>-3.566085e-16</td>\n",
              "      <td>-3.346777e-16</td>\n",
              "      <td>-0.007221</td>\n",
              "    </tr>\n",
              "    <tr>\n",
              "      <th>V25</th>\n",
              "      <td>-2.016400e-16</td>\n",
              "      <td>9.315160e-17</td>\n",
              "      <td>1.570075e-16</td>\n",
              "      <td>6.467948e-16</td>\n",
              "      <td>-6.107390e-17</td>\n",
              "      <td>5.411748e-16</td>\n",
              "      <td>1.110945e-16</td>\n",
              "      <td>-1.507978e-16</td>\n",
              "      <td>2.524695e-16</td>\n",
              "      <td>-5.132965e-16</td>\n",
              "      <td>-6.350467e-16</td>\n",
              "      <td>2.175445e-17</td>\n",
              "      <td>-8.794873e-17</td>\n",
              "      <td>-3.445588e-17</td>\n",
              "      <td>2.175926e-16</td>\n",
              "      <td>-3.423229e-16</td>\n",
              "      <td>9.382251e-17</td>\n",
              "      <td>-2.227161e-16</td>\n",
              "      <td>8.565208e-16</td>\n",
              "      <td>3.800692e-17</td>\n",
              "      <td>-2.690088e-17</td>\n",
              "      <td>-9.161361e-16</td>\n",
              "      <td>-6.272112e-16</td>\n",
              "      <td>1.229147e-15</td>\n",
              "      <td>1.000000e+00</td>\n",
              "      <td>2.449544e-15</td>\n",
              "      <td>-5.788646e-16</td>\n",
              "      <td>3.734974e-16</td>\n",
              "      <td>0.003308</td>\n",
              "    </tr>\n",
              "    <tr>\n",
              "      <th>V26</th>\n",
              "      <td>-1.311566e-16</td>\n",
              "      <td>2.795391e-16</td>\n",
              "      <td>-2.174994e-16</td>\n",
              "      <td>-4.301823e-16</td>\n",
              "      <td>3.421899e-16</td>\n",
              "      <td>-2.427295e-16</td>\n",
              "      <td>-8.579745e-16</td>\n",
              "      <td>-3.306971e-18</td>\n",
              "      <td>-1.151013e-16</td>\n",
              "      <td>-3.645586e-16</td>\n",
              "      <td>-1.353745e-16</td>\n",
              "      <td>1.706657e-16</td>\n",
              "      <td>-1.270324e-16</td>\n",
              "      <td>-2.033280e-17</td>\n",
              "      <td>9.641791e-17</td>\n",
              "      <td>-4.414570e-16</td>\n",
              "      <td>2.465084e-16</td>\n",
              "      <td>3.176817e-16</td>\n",
              "      <td>5.401140e-16</td>\n",
              "      <td>-3.209198e-16</td>\n",
              "      <td>-4.776631e-16</td>\n",
              "      <td>-3.495795e-17</td>\n",
              "      <td>1.274754e-15</td>\n",
              "      <td>2.055357e-16</td>\n",
              "      <td>2.449544e-15</td>\n",
              "      <td>1.000000e+00</td>\n",
              "      <td>-2.642248e-16</td>\n",
              "      <td>-2.545566e-16</td>\n",
              "      <td>0.004455</td>\n",
              "    </tr>\n",
              "    <tr>\n",
              "      <th>V27</th>\n",
              "      <td>1.242829e-16</td>\n",
              "      <td>-4.202227e-16</td>\n",
              "      <td>5.751471e-16</td>\n",
              "      <td>-1.085105e-16</td>\n",
              "      <td>7.479924e-16</td>\n",
              "      <td>-2.737351e-16</td>\n",
              "      <td>-3.470094e-16</td>\n",
              "      <td>3.044463e-16</td>\n",
              "      <td>-1.803879e-16</td>\n",
              "      <td>-2.786457e-16</td>\n",
              "      <td>-1.311237e-16</td>\n",
              "      <td>-2.941239e-16</td>\n",
              "      <td>-5.260129e-16</td>\n",
              "      <td>1.449516e-17</td>\n",
              "      <td>-1.284225e-15</td>\n",
              "      <td>6.897689e-16</td>\n",
              "      <td>5.632323e-16</td>\n",
              "      <td>2.359176e-16</td>\n",
              "      <td>-1.353059e-16</td>\n",
              "      <td>-1.218078e-15</td>\n",
              "      <td>-1.534126e-15</td>\n",
              "      <td>1.355925e-16</td>\n",
              "      <td>4.403904e-16</td>\n",
              "      <td>-3.566085e-16</td>\n",
              "      <td>-5.788646e-16</td>\n",
              "      <td>-2.642248e-16</td>\n",
              "      <td>1.000000e+00</td>\n",
              "      <td>2.645952e-17</td>\n",
              "      <td>0.017580</td>\n",
              "    </tr>\n",
              "    <tr>\n",
              "      <th>V28</th>\n",
              "      <td>2.204709e-16</td>\n",
              "      <td>-4.004878e-16</td>\n",
              "      <td>7.250300e-16</td>\n",
              "      <td>-6.260611e-17</td>\n",
              "      <td>-1.167395e-16</td>\n",
              "      <td>5.586369e-16</td>\n",
              "      <td>-1.956991e-18</td>\n",
              "      <td>-5.024613e-16</td>\n",
              "      <td>7.983387e-16</td>\n",
              "      <td>2.615795e-16</td>\n",
              "      <td>-3.275280e-16</td>\n",
              "      <td>7.350239e-16</td>\n",
              "      <td>1.100173e-15</td>\n",
              "      <td>2.383871e-15</td>\n",
              "      <td>-1.104523e-15</td>\n",
              "      <td>7.003007e-16</td>\n",
              "      <td>-8.862355e-17</td>\n",
              "      <td>8.103605e-16</td>\n",
              "      <td>-1.358783e-15</td>\n",
              "      <td>-3.287179e-16</td>\n",
              "      <td>1.228713e-16</td>\n",
              "      <td>-4.903204e-16</td>\n",
              "      <td>1.408056e-15</td>\n",
              "      <td>-3.346777e-16</td>\n",
              "      <td>3.734974e-16</td>\n",
              "      <td>-2.545566e-16</td>\n",
              "      <td>2.645952e-17</td>\n",
              "      <td>1.000000e+00</td>\n",
              "      <td>0.009536</td>\n",
              "    </tr>\n",
              "    <tr>\n",
              "      <th>Class</th>\n",
              "      <td>-1.013473e-01</td>\n",
              "      <td>9.128865e-02</td>\n",
              "      <td>-1.929608e-01</td>\n",
              "      <td>1.334475e-01</td>\n",
              "      <td>-9.497430e-02</td>\n",
              "      <td>-4.364316e-02</td>\n",
              "      <td>-1.872566e-01</td>\n",
              "      <td>1.987512e-02</td>\n",
              "      <td>-9.773269e-02</td>\n",
              "      <td>-2.168829e-01</td>\n",
              "      <td>1.548756e-01</td>\n",
              "      <td>-2.605929e-01</td>\n",
              "      <td>-4.569779e-03</td>\n",
              "      <td>-3.025437e-01</td>\n",
              "      <td>-4.223402e-03</td>\n",
              "      <td>-1.965389e-01</td>\n",
              "      <td>-3.264811e-01</td>\n",
              "      <td>-1.114853e-01</td>\n",
              "      <td>3.478301e-02</td>\n",
              "      <td>2.009032e-02</td>\n",
              "      <td>4.041338e-02</td>\n",
              "      <td>8.053175e-04</td>\n",
              "      <td>-2.685156e-03</td>\n",
              "      <td>-7.220907e-03</td>\n",
              "      <td>3.307706e-03</td>\n",
              "      <td>4.455398e-03</td>\n",
              "      <td>1.757973e-02</td>\n",
              "      <td>9.536041e-03</td>\n",
              "      <td>1.000000</td>\n",
              "    </tr>\n",
              "  </tbody>\n",
              "</table>\n",
              "</div>"
            ],
            "text/plain": [
              "                 V1            V2  ...           V28     Class\n",
              "V1     1.000000e+00 -1.403764e-16  ...  2.204709e-16 -0.101347\n",
              "V2    -1.403764e-16  1.000000e+00  ... -4.004878e-16  0.091289\n",
              "V3    -5.831480e-16 -2.867342e-18  ...  7.250300e-16 -0.192961\n",
              "V4    -1.842700e-16 -1.330429e-16  ... -6.260611e-17  0.133447\n",
              "V5     4.247449e-16 -1.269909e-16  ... -1.167395e-16 -0.094974\n",
              "V6     1.053418e-16  2.760152e-16  ...  5.586369e-16 -0.043643\n",
              "V7     8.002428e-17 -1.149582e-16  ... -1.956991e-18 -0.187257\n",
              "V8     1.075046e-16 -6.392051e-17  ... -5.024613e-16  0.019875\n",
              "V9     9.155757e-18  2.650021e-17  ...  7.983387e-16 -0.097733\n",
              "V10    9.852744e-17 -1.394116e-16  ...  2.615795e-16 -0.216883\n",
              "V11    2.636570e-16  3.243266e-16  ... -3.275280e-16  0.154876\n",
              "V12    1.966439e-16 -2.848935e-16  ...  7.350239e-16 -0.260593\n",
              "V13   -2.755421e-17 -5.869893e-17  ...  1.100173e-15 -0.004570\n",
              "V14    3.955041e-16 -4.091735e-16  ...  2.383871e-15 -0.302544\n",
              "V15   -9.133983e-17  1.021365e-16  ... -1.104523e-15 -0.004223\n",
              "V16    3.360300e-16  4.719870e-17  ...  7.003007e-16 -0.196539\n",
              "V17   -3.658208e-17 -5.852228e-16  ... -8.862355e-17 -0.326481\n",
              "V18    1.349254e-16  2.207743e-16  ...  8.103605e-16 -0.111485\n",
              "V19    1.607558e-16  1.407783e-17  ... -1.358783e-15  0.034783\n",
              "V20    2.823463e-16  4.509201e-17  ... -3.287179e-16  0.020090\n",
              "V21   -7.851139e-17  9.896523e-17  ...  1.228713e-16  0.040413\n",
              "V22    6.683358e-17  1.982007e-16  ... -4.903204e-16  0.000805\n",
              "V23    1.820590e-16  1.422624e-16  ...  1.408056e-15 -0.002685\n",
              "V24   -2.919909e-17 -1.172223e-16  ... -3.346777e-16 -0.007221\n",
              "V25   -2.016400e-16  9.315160e-17  ...  3.734974e-16  0.003308\n",
              "V26   -1.311566e-16  2.795391e-16  ... -2.545566e-16  0.004455\n",
              "V27    1.242829e-16 -4.202227e-16  ...  2.645952e-17  0.017580\n",
              "V28    2.204709e-16 -4.004878e-16  ...  1.000000e+00  0.009536\n",
              "Class -1.013473e-01  9.128865e-02  ...  9.536041e-03  1.000000\n",
              "\n",
              "[29 rows x 29 columns]"
            ]
          },
          "metadata": {
            "tags": []
          },
          "execution_count": 50
        }
      ]
    },
    {
      "cell_type": "code",
      "metadata": {
        "id": "1OMRMT6oIjTB",
        "colab_type": "code",
        "colab": {}
      },
      "source": [
        "credit_card_corr=credit_card.corr()\n",
        "new_df_corr=new_df.corr()"
      ],
      "execution_count": 51,
      "outputs": []
    },
    {
      "cell_type": "code",
      "metadata": {
        "id": "Z6_Pd9MPIjTF",
        "colab_type": "code",
        "colab": {
          "base_uri": "https://localhost:8080/",
          "height": 1000
        },
        "outputId": "dcefec27-b648-4b39-e5aa-bd7ea987ef7e"
      },
      "source": [
        "f,(ax1,ax2)=plt.subplots(2,1,figsize=(20,20))\n",
        "\n",
        "sns.heatmap(credit_card_corr,cmap='coolwarm_r',ax=ax1)\n",
        "sns.heatmap(new_df_corr,cmap='coolwarm_r',ax=ax2)\n",
        "\n",
        "ax1.set_title('Imbalanced correlation matrix')\n",
        "ax2.set_title('Subsample correlation matrix')"
      ],
      "execution_count": 52,
      "outputs": [
        {
          "output_type": "execute_result",
          "data": {
            "text/plain": [
              "Text(0.5, 1.0, 'Subsample correlation matrix')"
            ]
          },
          "metadata": {
            "tags": []
          },
          "execution_count": 52
        },
        {
          "output_type": "display_data",
          "data": {
            "image/png": "[encoded data removed]",
            "text/plain": [
              "<Figure size 1440x1440 with 4 Axes>"
            ]
          },
          "metadata": {
            "tags": [],
            "needs_background": "light"
          }
        }
      ]
    },
    {
      "cell_type": "markdown",
      "metadata": {
        "id": "LG0XEtQoIjTI",
        "colab_type": "text"
      },
      "source": [
        "We can see that With respect to Class,Variables V2,V4,V11 and V19 are Possitively correlated to the Type of Transaction whereas,\n",
        "V9,V10,V12,V14,V16-V18 are Negeatively Correlated. We Can Plot Box Plot to Find correlation Between These Variables With respect to Class."
      ]
    },
    {
      "cell_type": "code",
      "metadata": {
        "id": "gNIpNANOIjTJ",
        "colab_type": "code",
        "colab": {
          "base_uri": "https://localhost:8080/",
          "height": 468
        },
        "outputId": "8ba7c46d-2aaf-4d40-abf6-79b51ab72cc9"
      },
      "source": [
        "colors = ['#B3F9C5', '#f9c5b3']\n",
        "f,axes=plt.subplots(ncols=4,figsize=(30,10))\n",
        "\n",
        "sns.boxplot(x='Class',y='V17',data=new_df,palette=colors,ax=axes[0])\n",
        "axes[0].set_title('V17 vs class Negative crorrelation')\n",
        "\n",
        "sns.boxplot(x='Class',y='V14',data=new_df,palette=colors,ax=axes[1])\n",
        "axes[1].set_title('V14 vs class Negative crorrelation')\n",
        "\n",
        "sns.boxplot(x='Class',y='V12',data=new_df,palette=colors,ax=axes[2])\n",
        "axes[2].set_title('V12 vs class Negative crorrelation')\n",
        "\n",
        "sns.boxplot(x='Class',y='V10',data=new_df,palette=colors,ax=axes[3])\n",
        "axes[3].set_title('V10 vs class Negative crorrelation')"
      ],
      "execution_count": 53,
      "outputs": [
        {
          "output_type": "execute_result",
          "data": {
            "text/plain": [
              "Text(0.5, 1.0, 'V10 vs class Negative crorrelation')"
            ]
          },
          "metadata": {
            "tags": []
          },
          "execution_count": 53
        },
        {
          "output_type": "display_data",
          "data": {
            "image/png": "[encoded data removed]",
            "text/plain": [
              "<Figure size 2160x720 with 4 Axes>"
            ]
          },
          "metadata": {
            "tags": [],
            "needs_background": "light"
          }
        }
      ]
    },
    {
      "cell_type": "code",
      "metadata": {
        "id": "CIYLvlmeIjTM",
        "colab_type": "code",
        "colab": {
          "base_uri": "https://localhost:8080/",
          "height": 470
        },
        "outputId": "b055e621-d862-49cd-f843-5af3dbf4768d"
      },
      "source": [
        "f,axes=plt.subplots(ncols=4,figsize=(30,10))\n",
        "\n",
        "sns.boxplot(x='Class',y='V11',data=new_df,palette=colors,ax=axes[0])\n",
        "axes[0].set_title('V11 vs class Negative crorrelation')\n",
        "\n",
        "sns.boxplot(x='Class',y='V4',data=new_df,palette=colors,ax=axes[1])\n",
        "axes[1].set_title('V4 vs class Negative crorrelation')\n",
        "\n",
        "sns.boxplot(x='Class',y='V2',data=new_df,palette=colors,ax=axes[2])\n",
        "axes[2].set_title('V2 vs class Negative crorrelation')\n",
        "\n",
        "sns.boxplot(x='Class',y='V19',data=new_df,palette=colors,ax=axes[3])\n",
        "axes[3].set_title('V19 vs class Negative crorrelation')"
      ],
      "execution_count": 54,
      "outputs": [
        {
          "output_type": "execute_result",
          "data": {
            "text/plain": [
              "Text(0.5, 1.0, 'V19 vs class Negative crorrelation')"
            ]
          },
          "metadata": {
            "tags": []
          },
          "execution_count": 54
        },
        {
          "output_type": "display_data",
          "data": {
            "image/png": "[encoded data removed]",
            "text/plain": [
              "<Figure size 2160x720 with 4 Axes>"
            ]
          },
          "metadata": {
            "tags": [],
            "needs_background": "light"
          }
        }
      ]
    },
    {
      "cell_type": "code",
      "metadata": {
        "id": "b5MayqvqIjTQ",
        "colab_type": "code",
        "colab": {
          "base_uri": "https://localhost:8080/",
          "height": 480
        },
        "outputId": "c26c6c8d-6efc-4805-c43c-62a0f9a42a99"
      },
      "source": [
        "from scipy.stats import norm\n",
        "f,(ax1,ax2,ax3)=plt.subplots(1,3,figsize=(30,10))\n",
        "\n",
        "v14_fraud_dist=new_df['V14'].loc[new_df['Class']==1].values\n",
        "sns.distplot(v14_fraud_dist,ax=ax1,fit=norm)\n",
        "ax1.set_title('V14 Distribution\\nfraud distribution',fontsize=20)\n",
        "\n",
        "v12_fraud_dist=new_df['V12'].loc[new_df['Class']==1].values\n",
        "sns.distplot(v12_fraud_dist,ax=ax2,fit=norm)\n",
        "ax2.set_title('V12 Distribution\\nfraud distribution',fontsize=20)\n",
        "\n",
        "v10_fraud_dist=new_df['V10'].loc[new_df['Class']==1].values\n",
        "sns.distplot(v10_fraud_dist,ax=ax3,fit=norm)\n",
        "ax3.set_title('V10 Distribution\\nfraud distribution',fontsize=20)"
      ],
      "execution_count": 55,
      "outputs": [
        {
          "output_type": "execute_result",
          "data": {
            "text/plain": [
              "Text(0.5, 1.0, 'V10 Distribution\\nfraud distribution')"
            ]
          },
          "metadata": {
            "tags": []
          },
          "execution_count": 55
        },
        {
          "output_type": "display_data",
          "data": {
            "image/png": "[encoded data removed]",
            "text/plain": [
              "<Figure size 2160x720 with 3 Axes>"
            ]
          },
          "metadata": {
            "tags": [],
            "needs_background": "light"
          }
        }
      ]
    },
    {
      "cell_type": "code",
      "metadata": {
        "id": "xgvkouTMIjTU",
        "colab_type": "code",
        "colab": {}
      },
      "source": [
        "\n",
        "\n",
        "v14_fraud=new_df['V14'].loc[new_df['Class']==1].values\n",
        "q25,q75=np.percentile(v14_fraud,25),np.percentile(v14_fraud,75)\n",
        "v14_iqr=q75-q25\n",
        "\n",
        "v14_cutoff=v14_iqr*1.5\n",
        "v14_lower,v14_upper=q25-v14_cutoff,q75+v14_cutoff\n",
        "\n",
        "outliers=[x for x in v14_fraud if x<v14_lower or x>v14_upper]\n",
        "\n",
        "new_df=new_df.drop(new_df[(new_df['V14']>v14_upper)|(new_df['V14']<v14_lower)].index)\n",
        "#V12 outliers\n",
        "\n",
        "v12_fraud=new_df['V12'].loc[new_df['Class']==1].values\n",
        "q25,q75=np.percentile(v12_fraud,25),np.percentile(v12_fraud,75)\n",
        "v12_iqr=q75-q25\n",
        "\n",
        "v12_cutoff=v12_iqr*1.5\n",
        "v12_lower,v12_upper=q25-v12_cutoff,q75+v12_cutoff\n",
        "\n",
        "outliers=[x for x in v12_fraud if x<v12_lower or x>v12_upper]\n",
        "\n",
        "new_df=new_df.drop(new_df[(new_df['V12']>v12_upper)|(new_df['V12']<v12_lower)].index)\n",
        "\n",
        "#v10 outliers\n",
        "\n",
        "v10_fraud=new_df['V10'].loc[new_df['Class']==1].values\n",
        "q25,q75=np.percentile(v10_fraud,25),np.percentile(v10_fraud,75)\n",
        "v10_iqr=q75-q25\n",
        "\n",
        "\n",
        "v10_cutoff=v10_iqr*1.5\n",
        "v10_lower,v10_upper=q25-v10_cutoff,q75+v10_cutoff\n",
        "\n",
        "outliers=[x for x in v10_fraud if x<v10_lower or x>v10_upper]\n",
        "\n",
        "\n",
        "new_df=new_df.drop(new_df[(new_df['V10']>v10_upper)|(new_df['V10']<v10_lower)].index)\n"
      ],
      "execution_count": 56,
      "outputs": []
    },
    {
      "cell_type": "code",
      "metadata": {
        "id": "gPV4DZsMIjTY",
        "colab_type": "code",
        "colab": {
          "base_uri": "https://localhost:8080/",
          "height": 468
        },
        "outputId": "c5f6aaee-e084-4079-a670-856453478c26"
      },
      "source": [
        "f,axes=plt.subplots(ncols=3,figsize=(30,10))\n",
        "\n",
        "sns.boxplot(x='Class',y='V14',data=new_df,palette=colors,ax=axes[0])\n",
        "axes[0].set_title('V14 vs class Negative crorrelation')\n",
        "axes[0].annotate('Fewer extreme\\n outliers',xy=(0.98,-16.5),xytext=(0,-10),arrowprops=dict(facecolor='black'),fontsize=20)\n",
        "\n",
        "sns.boxplot(x='Class',y='V12',data=new_df,palette=colors,ax=axes[1])\n",
        "axes[1].set_title('V12 vs class Negative crorrelation')\n",
        "\n",
        "sns.boxplot(x='Class',y='V10',data=new_df,palette=colors,ax=axes[2])\n",
        "axes[2].set_title('V10 vs class Negative crorrelation')"
      ],
      "execution_count": 57,
      "outputs": [
        {
          "output_type": "execute_result",
          "data": {
            "text/plain": [
              "Text(0.5, 1.0, 'V10 vs class Negative crorrelation')"
            ]
          },
          "metadata": {
            "tags": []
          },
          "execution_count": 57
        },
        {
          "output_type": "display_data",
          "data": {
            "image/png": "[encoded data removed]",
            "text/plain": [
              "<Figure size 2160x720 with 3 Axes>"
            ]
          },
          "metadata": {
            "tags": [],
            "needs_background": "light"
          }
        }
      ]
    },
    {
      "cell_type": "markdown",
      "metadata": {
        "id": "pLW1Ry5tIjTb",
        "colab_type": "text"
      },
      "source": [
        "#### Box-Plot after removing Outliers"
      ]
    },
    {
      "cell_type": "markdown",
      "metadata": {
        "id": "EEgMXnBrIjTc",
        "colab_type": "text"
      },
      "source": [
        "We can make use of dimensionality reduction Algorithms to Group The data points in a 2-D plane, We'll use T-SNE,PCA andTruncatedSVD. And See which Performs Better and also Check which Algorithm is faster."
      ]
    },
    {
      "cell_type": "code",
      "metadata": {
        "id": "rkmgq9dyIjTc",
        "colab_type": "code",
        "colab": {
          "base_uri": "https://localhost:8080/",
          "height": 68
        },
        "outputId": "ba4e0e5a-da79-4bcd-934f-6d3618bb35c0"
      },
      "source": [
        "X=new_df.drop('Class',axis=1)\n",
        "y=new_df['Class']\n",
        "\n",
        "#T-SNE implementation\n",
        "\n",
        "t0=time.time()\n",
        "X_reduced_tsne=TSNE(n_components=2,random_state=42).fit_transform(X.values)\n",
        "t1=time.time()\n",
        "print('T-SNE took {:.2} s'.format(t1-t0))\n",
        "\n",
        "#PCA implementation\n",
        "t0=time.time()\n",
        "X_reduced_PCA=PCA(n_components=2,random_state=42).fit_transform(X.values)\n",
        "t1=time.time()\n",
        "print('PCA took {:.2} s'.format(t1-t0))\n",
        "\n",
        "\n",
        "#TruncatedSVD\n",
        "t0=time.time()\n",
        "X_reduced_svd=TruncatedSVD(n_components=2,algorithm='randomized').fit_transform(X.values)\n",
        "t1=time.time()\n",
        "print('svd took {:.2} s'.format(t1-t0))"
      ],
      "execution_count": 58,
      "outputs": [
        {
          "output_type": "stream",
          "text": [
            "T-SNE took 5.5 s\n",
            "PCA took 0.03 s\n",
            "svd took 0.0034 s\n"
          ],
          "name": "stdout"
        }
      ]
    },
    {
      "cell_type": "code",
      "metadata": {
        "id": "SSOexEN8IjTg",
        "colab_type": "code",
        "colab": {
          "base_uri": "https://localhost:8080/",
          "height": 394
        },
        "outputId": "fbe17f67-c98d-4559-abb2-ef2450e798ae"
      },
      "source": [
        "f,(ax1,ax2,ax3)=plt.subplots(1,3,figsize=(24,6))\n",
        "f.suptitle('Clusters using Dimensionability Reduction',fontsize=20)\n",
        "\n",
        "\n",
        "blue_patch=mpatches.Patch(color='#0A0AFF',label='No Fraud')\n",
        "red_patch=mpatches.Patch(color='#AF0000',label='Fraud')\n",
        "\n",
        "#t-SNE scatter plot\n",
        "\n",
        "ax1.scatter(X_reduced_tsne[:,0],X_reduced_tsne[:,1],c=(y==0),cmap='coolwarm',label='No Fraud',linewidths=2)\n",
        "ax1.scatter(X_reduced_tsne[:,0],X_reduced_tsne[:,1],c=(y==1),cmap='coolwarm',label='Fraud',linewidths=2)\n",
        "ax1.set_title('t-SNE',fontsize=20)\n",
        "ax1.grid(True)\n",
        "ax1.legend(handles=[blue_patch,red_patch])\n",
        "\n",
        "#PCA\n",
        "ax2.scatter(X_reduced_PCA[:,0],X_reduced_PCA[:,1],c=(y==0),cmap='coolwarm',label='No Fraud',linewidths=2)\n",
        "ax2.scatter(X_reduced_PCA[:,0],X_reduced_PCA[:,1],c=(y==1),cmap='coolwarm',label='Fraud',linewidths=2)\n",
        "ax2.set_title('PCA',fontsize=20)\n",
        "ax2.grid(True)\n",
        "ax2.legend(handles=[blue_patch,red_patch])\n",
        "\n",
        "\n",
        "#truncatedsvd\n",
        "ax3.scatter(X_reduced_svd[:,0],X_reduced_svd[:,1],c=(y==0),cmap='coolwarm',label='No Fraud',linewidths=2)\n",
        "ax3.scatter(X_reduced_svd[:,0],X_reduced_svd[:,1],c=(y==1),cmap='coolwarm',label='Fraud',linewidths=2)\n",
        "ax3.set_title('truncatedsvd',fontsize=20)\n",
        "ax3.grid(True)\n",
        "ax3.legend(handles=[blue_patch,red_patch])"
      ],
      "execution_count": 59,
      "outputs": [
        {
          "output_type": "execute_result",
          "data": {
            "text/plain": [
              "<matplotlib.legend.Legend at 0x7fc745e1d780>"
            ]
          },
          "metadata": {
            "tags": []
          },
          "execution_count": 59
        },
        {
          "output_type": "display_data",
          "data": {
            "image/png": "[encoded data removed]",
            "text/plain": [
              "<Figure size 1728x432 with 3 Axes>"
            ]
          },
          "metadata": {
            "tags": [],
            "needs_background": "light"
          }
        }
      ]
    },
    {
      "cell_type": "code",
      "metadata": {
        "id": "zYOJiKWPIjTj",
        "colab_type": "code",
        "colab": {}
      },
      "source": [
        "X=new_df.drop('Class',axis=1)\n",
        "y=new_df['Class']"
      ],
      "execution_count": 60,
      "outputs": []
    },
    {
      "cell_type": "code",
      "metadata": {
        "id": "phzhTFuKIjTn",
        "colab_type": "code",
        "colab": {}
      },
      "source": [
        "from sklearn.model_selection import train_test_split\n",
        "\n",
        "X_train,X_test,y_train,y_test=train_test_split(X,y,test_size=0.2,random_state=42)"
      ],
      "execution_count": 61,
      "outputs": []
    },
    {
      "cell_type": "code",
      "metadata": {
        "id": "BebkG6HfIjTt",
        "colab_type": "code",
        "colab": {}
      },
      "source": [
        "X_train=X_train.values\n",
        "X_test=X_test.values\n",
        "y_train=y_train.values\n",
        "y_test=y_test.values"
      ],
      "execution_count": 62,
      "outputs": []
    },
    {
      "cell_type": "markdown",
      "metadata": {
        "id": "9KeX0JPzZvFo",
        "colab_type": "text"
      },
      "source": [
        "Train Model with different Machine Learning ALgorithms"
      ]
    },
    {
      "cell_type": "code",
      "metadata": {
        "id": "ayML8ZGkIjTx",
        "colab_type": "code",
        "colab": {}
      },
      "source": [
        "classifiers={'LogisticRegression':LogisticRegression(),'KNearest':KNeighborsClassifier(),\n",
        "            'Support Vector Classifier':SVC(),'DecisionTreeClassifier':DecisionTreeClassifier()}"
      ],
      "execution_count": 63,
      "outputs": []
    },
    {
      "cell_type": "code",
      "metadata": {
        "id": "6gETc7k-IjT1",
        "colab_type": "code",
        "colab": {
          "base_uri": "https://localhost:8080/",
          "height": 85
        },
        "outputId": "4dd80bf7-1036-46c6-88fe-6443eb720369"
      },
      "source": [
        "from sklearn.model_selection import cross_val_score\n",
        "\n",
        "for key,classifier in classifiers.items():\n",
        "    classifier.fit(X_train,y_train) \n",
        "    training_score=cross_val_score(classifier,X_train,y_train,cv=5)\n",
        "    print('Classifiers:',classifier.__class__.__name__,'has a training score of',round(training_score.mean(),2)*100,\n",
        "         '% accuracy score')\n",
        "    "
      ],
      "execution_count": 64,
      "outputs": [
        {
          "output_type": "stream",
          "text": [
            "Classifiers: LogisticRegression has a training score of 94.0 % accuracy score\n",
            "Classifiers: KNeighborsClassifier has a training score of 93.0 % accuracy score\n",
            "Classifiers: SVC has a training score of 93.0 % accuracy score\n",
            "Classifiers: DecisionTreeClassifier has a training score of 89.0 % accuracy score\n"
          ],
          "name": "stdout"
        }
      ]
    },
    {
      "cell_type": "markdown",
      "metadata": {
        "id": "cPFbqSRzZ6uf",
        "colab_type": "text"
      },
      "source": [
        "We can make use of GridSearchCV to check the best paramater fit for Algorithms"
      ]
    },
    {
      "cell_type": "code",
      "metadata": {
        "id": "ZmLWcsanIjT5",
        "colab_type": "code",
        "colab": {
          "base_uri": "https://localhost:8080/",
          "height": 323
        },
        "outputId": "aa7bdab2-65bc-4741-b7bf-c52cfe536d60"
      },
      "source": [
        "from sklearn.model_selection import GridSearchCV\n",
        "\n",
        "log_reg_params={'penalty':['l1','l2'],'C':[0.001,0.01,0.1,10,100,1000]}\n",
        "\n",
        "grid_log_reg=GridSearchCV(LogisticRegression(),log_reg_params)\n",
        "grid_log_reg.fit(X_train,y_train)\n",
        "\n",
        "#we get the logistic regression with the best paramater\n",
        "\n",
        "log_reg=grid_log_reg.best_estimator_\n",
        "print('Log_reg Best parameters: {}'.format(log_reg))\n",
        "\n",
        "#Knearest\n",
        "\n",
        "knears_params={'n_neighbors':list(range(2,5,1)),'algorithm':['auto','ball_tree','kd_tree','brute']}\n",
        "grid_knears=GridSearchCV(KNeighborsClassifier(),knears_params)\n",
        "grid_knears.fit(X_train,y_train)\n",
        "knears_neighbors=grid_knears.best_estimator_\n",
        "print('Knearest Best parameters: {}'.format(knears_neighbors))\n",
        "\n",
        "#support vector classifier\n",
        "\n",
        "svc_paramns={'C':[0.5,0.7,0.9,1],'kernel':['rbf','poly','sigmoid','linear']}\n",
        "grid_svc=GridSearchCV(SVC(),svc_paramns)\n",
        "grid_svc.fit(X_train,y_train)\n",
        "svc=grid_svc.best_estimator_\n",
        "print('svc Best parameters: {}'.format(svc))\n",
        "\n",
        "#Decision tree clasifier\n",
        "\n",
        "tree_params={'criterion':['gini','entropy'],'max_depth':list(range(2,4,1)),'min_samples_leaf':list(range(5,7,1))}\n",
        "grid_tree=GridSearchCV(DecisionTreeClassifier(),tree_params)\n",
        "grid_tree.fit(X_train,y_train)\n",
        "tree_clf=grid_tree.best_estimator_\n",
        "print('Decision Tree Best parameters: {}'.format(tree_clf))\n",
        "\n"
      ],
      "execution_count": 65,
      "outputs": [
        {
          "output_type": "stream",
          "text": [
            "Log_reg Best parameters: LogisticRegression(C=0.1, class_weight=None, dual=False, fit_intercept=True,\n",
            "                   intercept_scaling=1, l1_ratio=None, max_iter=100,\n",
            "                   multi_class='auto', n_jobs=None, penalty='l2',\n",
            "                   random_state=None, solver='lbfgs', tol=0.0001, verbose=0,\n",
            "                   warm_start=False)\n",
            "Knearest Best parameters: KNeighborsClassifier(algorithm='auto', leaf_size=30, metric='minkowski',\n",
            "                     metric_params=None, n_jobs=None, n_neighbors=4, p=2,\n",
            "                     weights='uniform')\n",
            "svc Best parameters: SVC(C=0.9, break_ties=False, cache_size=200, class_weight=None, coef0=0.0,\n",
            "    decision_function_shape='ovr', degree=3, gamma='scale', kernel='rbf',\n",
            "    max_iter=-1, probability=False, random_state=None, shrinking=True,\n",
            "    tol=0.001, verbose=False)\n",
            "Decision Tree Best parameters: DecisionTreeClassifier(ccp_alpha=0.0, class_weight=None, criterion='entropy',\n",
            "                       max_depth=3, max_features=None, max_leaf_nodes=None,\n",
            "                       min_impurity_decrease=0.0, min_impurity_split=None,\n",
            "                       min_samples_leaf=5, min_samples_split=2,\n",
            "                       min_weight_fraction_leaf=0.0, presort='deprecated',\n",
            "                       random_state=None, splitter='best')\n"
          ],
          "name": "stdout"
        }
      ]
    },
    {
      "cell_type": "code",
      "metadata": {
        "id": "K6qhpB1fIjUc",
        "colab_type": "code",
        "colab": {}
      },
      "source": [
        "from sklearn.metrics import roc_curve\n",
        "from sklearn.model_selection import cross_val_predict\n",
        "\n",
        "log_reg_predict=cross_val_predict(log_reg,X_train,y_train,cv=5,method='decision_function')\n",
        "knears_pred=cross_val_predict(knears_neighbors,X_train,y_train,cv=5)\n",
        "svc_pred=cross_val_predict(svc,X_train,y_train,cv=5,method='decision_function')\n",
        "tree_pred=cross_val_predict(tree_clf,X_train,y_train,cv=5)"
      ],
      "execution_count": 66,
      "outputs": []
    },
    {
      "cell_type": "code",
      "metadata": {
        "id": "8j8OIX1lIjUg",
        "colab_type": "code",
        "colab": {
          "base_uri": "https://localhost:8080/",
          "height": 85
        },
        "outputId": "6d424393-c65c-4a9b-8c3c-2d9e8a672295"
      },
      "source": [
        "from sklearn.metrics import roc_auc_score\n",
        "\n",
        "\n",
        "print('logistic regression:',roc_auc_score(y_train,log_reg_predict))\n",
        "print('knearest :',roc_auc_score(y_train,knears_pred))\n",
        "print('support vector classifier:',roc_auc_score(y_train,svc_pred))\n",
        "print('Decision tree classifier:',roc_auc_score(y_train,tree_pred))"
      ],
      "execution_count": 67,
      "outputs": [
        {
          "output_type": "stream",
          "text": [
            "logistic regression: 0.9736757105943152\n",
            "knearest : 0.9298147680035951\n",
            "support vector classifier: 0.9764984271430176\n",
            "Decision tree classifier: 0.9214379002359285\n"
          ],
          "name": "stdout"
        }
      ]
    },
    {
      "cell_type": "code",
      "metadata": {
        "id": "hC3FguWCIjUl",
        "colab_type": "code",
        "colab": {}
      },
      "source": [
        ""
      ],
      "execution_count": 67,
      "outputs": []
    },
    {
      "cell_type": "markdown",
      "metadata": {
        "id": "Z4iMbkiHaVpO",
        "colab_type": "text"
      },
      "source": [
        "Function for Plotting ROC Curve for All Algorithms defined Earlier"
      ]
    },
    {
      "cell_type": "code",
      "metadata": {
        "id": "PwznopfcIjUq",
        "colab_type": "code",
        "colab": {}
      },
      "source": [
        "log_fpr,log_tpr,log_threshold=roc_curve(y_train,log_reg_predict)\n",
        "knear_fpr,knear_tpr,knear_threshold=roc_curve(y_train,knears_pred)\n",
        "svc_fpr,svc_tpr,svc_threshold=roc_curve(y_train,svc_pred)\n",
        "tree_fpr,tree_tpr,tree_threshold=roc_curve(y_train,tree_pred)\n",
        "\n",
        "def graph_roc_curve_multiple(log_fpr,log_tpr,knear_fpr,knear_tpr,svc_fpr,svc_tpr,tree_fpr,tree_tpr):\n",
        "    plt.figure(figsize=(16,8))\n",
        "    plt.title('Roc Curve \\n Top 4 classifier',fontsize=18)\n",
        "    plt.plot(log_fpr,log_tpr,label='Logistic regression classifier score:{:.4f}'.\n",
        "             format(roc_auc_score(y_train,log_reg_predict)))\n",
        "    plt.plot(knear_fpr,knear_tpr,label='Knear Neighbor classifier score:{:.4f}'.\n",
        "             format(roc_auc_score(y_train,knears_pred)))\n",
        "    plt.plot(svc_fpr,svc_tpr,label='Logistic regression classifier score:{:.4f}'.\n",
        "             format(roc_auc_score(y_train,svc_pred)))\n",
        "    plt.plot(tree_fpr,tree_tpr,label='Logistic regression classifier score:{:.4f}'.\n",
        "             format(roc_auc_score(y_train,tree_pred)))\n",
        "    \n",
        "    plt.plot([0,1],[0,1],'k--')\n",
        "    plt.axis([-0.01,1,0,1])\n",
        "    plt.xlabel('False positive rate',fontsize=16)\n",
        "    plt.ylabel('True positive rate',fontsize=16)\n",
        "    plt.legend()"
      ],
      "execution_count": 68,
      "outputs": []
    },
    {
      "cell_type": "code",
      "metadata": {
        "id": "jUAVDSWYIjUt",
        "colab_type": "code",
        "colab": {
          "base_uri": "https://localhost:8080/",
          "height": 543
        },
        "outputId": "26de2d0e-9b0a-4683-935e-7ce3d77e7e3d"
      },
      "source": [
        "graph_roc_curve_multiple(log_fpr,log_tpr,knear_fpr,knear_tpr,svc_fpr,svc_tpr,tree_fpr,tree_tpr)\n",
        "plt.show()"
      ],
      "execution_count": 69,
      "outputs": [
        {
          "output_type": "display_data",
          "data": {
            "image/png": "[encoded data removed]",
            "text/plain": [
              "<Figure size 1152x576 with 1 Axes>"
            ]
          },
          "metadata": {
            "tags": [],
            "needs_background": "light"
          }
        }
      ]
    },
    {
      "cell_type": "code",
      "metadata": {
        "id": "ikTsJN8QIjUw",
        "colab_type": "code",
        "colab": {
          "base_uri": "https://localhost:8080/",
          "height": 520
        },
        "outputId": "a3dc7060-0abf-43ad-9076-16b88694f997"
      },
      "source": [
        "def logistic_roc_curve(log_fpr,log_tpr):\n",
        "    plt.figure(figsize=(12,8))\n",
        "    plt.title('Logistic regression ROC Curve',fontsize=16)\n",
        "    plt.plot(log_fpr,log_tpr,'b-',linewidth=2)\n",
        "    plt.plot([0,1],'r--')\n",
        "    plt.xlabel('False Positive Rate',fontsize=16)\n",
        "    plt.ylabel('True Positive Rate',fontsize=16)\n",
        "    plt.axis([-0.01,1,0,1])\n",
        "    \n",
        "logistic_roc_curve(log_fpr,log_tpr)"
      ],
      "execution_count": 70,
      "outputs": [
        {
          "output_type": "display_data",
          "data": {
            "image/png": "[encoded data removed]",
            "text/plain": [
              "<Figure size 864x576 with 1 Axes>"
            ]
          },
          "metadata": {
            "tags": [],
            "needs_background": "light"
          }
        }
      ]
    },
    {
      "cell_type": "code",
      "metadata": {
        "id": "GCra4oGmIjU5",
        "colab_type": "code",
        "colab": {}
      },
      "source": [
        "from sklearn.metrics import precision_recall_curve\n",
        "\n",
        "precision,recall,threshold=precision_recall_curve(y_train,log_reg_predict)"
      ],
      "execution_count": 71,
      "outputs": []
    },
    {
      "cell_type": "code",
      "metadata": {
        "id": "zyKGeIzZIjVA",
        "colab_type": "code",
        "colab": {}
      },
      "source": [
        ""
      ],
      "execution_count": 71,
      "outputs": []
    },
    {
      "cell_type": "code",
      "metadata": {
        "id": "Lqz_mlk7IjVD",
        "colab_type": "code",
        "colab": {
          "base_uri": "https://localhost:8080/",
          "height": 153
        },
        "outputId": "c038d1f9-fc4f-4473-caf2-8291750839e2"
      },
      "source": [
        "from imblearn.over_sampling import SMOTE\n",
        "from sklearn.model_selection import train_test_split,RandomizedSearchCV\n",
        "from imblearn.pipeline import make_pipeline as imbalanced_make_pipeline\n",
        "\n",
        "print('Length of X(train):{}| Length of y(train):{}'.format(len(original_Xtrain),len(original_ytrain)))\n",
        "print('Length of X(test):{}| Length of y(test):{}'.format(len(original_Xtest),len(original_ytest)))\n",
        "\n",
        "#list to append and to find the average\n",
        "\n",
        "accuracy_lst=[]\n",
        "precision_lst=[]\n",
        "recall_lst=[]\n",
        "f1_lst=[]\n",
        "auc_lst=[]\n",
        "\n",
        "#Classification with optimial paramaters\n",
        "log_reg_sm=LogisticRegression()\n",
        "rand_log_reg=RandomizedSearchCV(LogisticRegression(),log_reg_params,n_iter=4)\n",
        "\n",
        "#implementing SMOTE Curve\n",
        "#Cross validating the right way\n",
        "\n",
        "log_reg_params={'penalty':['l1','l2'],'C':[0.001,0.01,0.1,1,10,100,1000]}\n",
        "#log_reg_params1={'penalty':'l2','C':[0.001,0.01,0.1,1,10,100,1000]}\n",
        "\n",
        "for train,test in sss.split(original_Xtrain,original_ytrain):\n",
        "    pipeline=imbalanced_make_pipeline(SMOTE(sampling_strategy='minority'),rand_log_reg)#SMOTE happens befor cross validatin\n",
        "    model=pipeline.fit(original_Xtrain[train],original_ytrain[train])\n",
        "    best_est=rand_log_reg.best_estimator_\n",
        "    prediction=best_est.predict(original_Xtrain[test])\n",
        "    \n",
        "    accuracy_lst.append(pipeline.score(original_Xtrain[test],original_ytrain[test]))\n",
        "    precision_lst.append(precision_score(original_ytrain[test],prediction))\n",
        "    recall_lst.append(recall_score(original_ytrain[test],prediction))\n",
        "    f1_lst.append(f1_score(original_ytrain[test],prediction))\n",
        "    auc_lst.append(roc_auc_score(original_ytrain[test],prediction))\n",
        "\n",
        "print('---'*41)\n",
        "print('Accuracy:{}'.format(np.mean(accuracy_lst)))\n",
        "print('Precision:{}'.format(np.mean(precision_lst)))\n",
        "print('Recall:{}'.format(np.mean(recall_lst)))\n",
        "print('f1:{}'.format(np.mean(f1_lst)))\n",
        "print('auc:{}'.format(np.mean(auc_lst)))\n"
      ],
      "execution_count": 75,
      "outputs": [
        {
          "output_type": "stream",
          "text": [
            "Length of X(train):256326| Length of y(train):256326\n",
            "Length of X(test):28481| Length of y(test):28481\n",
            "---------------------------------------------------------------------------------------------------------------------------\n",
            "Accuracy:0.9737603870011313\n",
            "Precision:0.0547230876369205\n",
            "Recall:0.8772727272727272\n",
            "f1:0.10301041798783916\n",
            "auc:0.9255995118641177\n"
          ],
          "name": "stdout"
        }
      ]
    },
    {
      "cell_type": "code",
      "metadata": {
        "id": "_2XzLZ3jIjVH",
        "colab_type": "code",
        "colab": {
          "base_uri": "https://localhost:8080/",
          "height": 170
        },
        "outputId": "b1fb5d11-54d6-4f8b-c488-1233151dfa6f"
      },
      "source": [
        "labels=['No Fraud','Fraud']\n",
        "smote_prediction=best_est.predict(original_Xtest)\n",
        "print(classification_report(original_ytest,smote_prediction,target_names=labels))"
      ],
      "execution_count": 76,
      "outputs": [
        {
          "output_type": "stream",
          "text": [
            "              precision    recall  f1-score   support\n",
            "\n",
            "    No Fraud       1.00      0.98      0.99     28432\n",
            "       Fraud       0.06      0.92      0.12        49\n",
            "\n",
            "    accuracy                           0.98     28481\n",
            "   macro avg       0.53      0.95      0.55     28481\n",
            "weighted avg       1.00      0.98      0.99     28481\n",
            "\n"
          ],
          "name": "stdout"
        }
      ]
    },
    {
      "cell_type": "code",
      "metadata": {
        "id": "ILMPEIH6IjVQ",
        "colab_type": "code",
        "colab": {}
      },
      "source": [
        "y_score=best_est.decision_function(original_Xtest)"
      ],
      "execution_count": 77,
      "outputs": []
    },
    {
      "cell_type": "code",
      "metadata": {
        "id": "Dlgkkg5QIjVU",
        "colab_type": "code",
        "colab": {
          "base_uri": "https://localhost:8080/",
          "height": 34
        },
        "outputId": "aed6db7f-9351-4b5d-9c91-4b3aa2d1e1fa"
      },
      "source": [
        "from sklearn.metrics import  average_precision_score\n",
        "average_precision=average_precision_score(original_ytest,y_score)\n",
        "print(original_ytest.shape)"
      ],
      "execution_count": 91,
      "outputs": [
        {
          "output_type": "stream",
          "text": [
            "(28481,)\n"
          ],
          "name": "stdout"
        }
      ]
    },
    {
      "cell_type": "code",
      "metadata": {
        "id": "wWwjPlkHIjVY",
        "colab_type": "code",
        "colab": {
          "base_uri": "https://localhost:8080/",
          "height": 34
        },
        "outputId": "2cd3d654-546c-4b54-9a40-51bb91aaabc3"
      },
      "source": [
        "sm=SMOTE(ratio='minority',random_state=42)\n",
        "\n",
        "Xsm_train,ysm_train=sm.fit_sample(original_Xtrain,original_ytrain)\n",
        "Xsm_train.shape"
      ],
      "execution_count": 97,
      "outputs": [
        {
          "output_type": "execute_result",
          "data": {
            "text/plain": [
              "(511766, 28)"
            ]
          },
          "metadata": {
            "tags": []
          },
          "execution_count": 97
        }
      ]
    },
    {
      "cell_type": "code",
      "metadata": {
        "id": "C7LgwKvjIjVc",
        "colab_type": "code",
        "colab": {
          "base_uri": "https://localhost:8080/",
          "height": 102
        },
        "outputId": "676407e9-8ea5-40aa-beb3-386bcb39115c"
      },
      "source": [
        "log_reg_sm=grid_log_reg.best_estimator_\n",
        "log_reg_sm.fit(Xsm_train,ysm_train)"
      ],
      "execution_count": 94,
      "outputs": [
        {
          "output_type": "execute_result",
          "data": {
            "text/plain": [
              "LogisticRegression(C=0.1, class_weight=None, dual=False, fit_intercept=True,\n",
              "                   intercept_scaling=1, l1_ratio=None, max_iter=100,\n",
              "                   multi_class='auto', n_jobs=None, penalty='l2',\n",
              "                   random_state=None, solver='lbfgs', tol=0.0001, verbose=0,\n",
              "                   warm_start=False)"
            ]
          },
          "metadata": {
            "tags": []
          },
          "execution_count": 94
        }
      ]
    },
    {
      "cell_type": "code",
      "metadata": {
        "id": "uhyYPHv1IjVf",
        "colab_type": "code",
        "colab": {}
      },
      "source": [
        ""
      ],
      "execution_count": 96,
      "outputs": []
    },
    {
      "cell_type": "code",
      "metadata": {
        "id": "4Xs7klQBIjVo",
        "colab_type": "code",
        "colab": {
          "base_uri": "https://localhost:8080/",
          "height": 736
        },
        "outputId": "b82f57f2-4d9e-48e8-acc0-8910d1428d19"
      },
      "source": [
        "from sklearn.metrics import confusion_matrix\n",
        "#logistic regression fitted with SMOTE technique\n",
        "#test the model with Fewer samples and check the accuracy score\n",
        "y_pred_log_reg=log_reg_sm.predict(X_test)\n",
        "\n",
        "#other model fitted with undersampling\n",
        "y_pred_knear=knears_neighbors.predict(X_test)\n",
        "y_pred_svc=svc.predict(X_test)\n",
        "y_pred_tree=tree_clf.predict(X_test)\n",
        "\n",
        "\n",
        "log_reg_cf=confusion_matrix(y_test,y_pred_log_reg)\n",
        "kneighbors_cf=confusion_matrix(y_test,y_pred_knear)\n",
        "svc_cf=confusion_matrix(y_test,y_pred_svc)\n",
        "tree_cf=confusion_matrix(y_test,y_pred_tree)\n",
        "\n",
        "fig,ax=plt.subplots(2,2,figsize=(22,12))\n",
        "\n",
        "sns.heatmap(log_reg_cf,ax=ax[0][0],annot=True,cmap=plt.cm.copper)\n",
        "ax[0,0].set_title('logistic regression \\n confusion matrix',fontsize=16)\n",
        "\n",
        "sns.heatmap(kneighbors_cf,ax=ax[0][1],annot=True,cmap=plt.cm.copper)\n",
        "ax[0,1].set_title('Kneighbors \\n confusion matrix',fontsize=16)\n",
        "\n",
        "sns.heatmap(svc_cf,ax=ax[1][0],annot=True,cmap=plt.cm.copper)\n",
        "ax[1,0].set_title('svc  \\n confusion matrix',fontsize=16)\n",
        "\n",
        "sns.heatmap(tree_cf,ax=ax[1][1],annot=True,cmap=plt.cm.copper)\n",
        "ax[1,1].set_title('decision tree   \\n confusion matrix',fontsize=16)\n",
        "\n",
        "plt.show()\n"
      ],
      "execution_count": 98,
      "outputs": [
        {
          "output_type": "display_data",
          "data": {
            "image/png": "[encoded data removed]",
            "text/plain": [
              "<Figure size 1584x864 with 8 Axes>"
            ]
          },
          "metadata": {
            "tags": [],
            "needs_background": "light"
          }
        }
      ]
    },
    {
      "cell_type": "markdown",
      "metadata": {
        "id": "HE-ieHTzd4fI",
        "colab_type": "text"
      },
      "source": [
        ""
      ]
    },
    {
      "cell_type": "code",
      "metadata": {
        "id": "Afca4x_IIjVt",
        "colab_type": "code",
        "colab": {
          "base_uri": "https://localhost:8080/",
          "height": 765
        },
        "outputId": "d6ec315a-d46f-4f3d-d6ac-8b82da239cdb"
      },
      "source": [
        "from sklearn.metrics import classification_report\n",
        "\n",
        "print('Logistic Regression:')\n",
        "print(classification_report(y_test,y_pred_log_reg))\n",
        "print('---'*41)\n",
        "\n",
        "print('K nearest neighbor:')\n",
        "print(classification_report(y_test,y_pred_knear))\n",
        "print('---'*41)\n",
        "\n",
        "print('svc:')\n",
        "print(classification_report(y_test,y_pred_svc))\n",
        "print('---'*41)\n",
        "\n",
        "print('Decision tree:')\n",
        "print(classification_report(y_test,y_pred_tree))\n",
        "print('---'*41)"
      ],
      "execution_count": 99,
      "outputs": [
        {
          "output_type": "stream",
          "text": [
            "Logistic Regression:\n",
            "              precision    recall  f1-score   support\n",
            "\n",
            "           0       0.92      0.98      0.95       100\n",
            "           1       0.98      0.91      0.94        89\n",
            "\n",
            "    accuracy                           0.95       189\n",
            "   macro avg       0.95      0.95      0.95       189\n",
            "weighted avg       0.95      0.95      0.95       189\n",
            "\n",
            "---------------------------------------------------------------------------------------------------------------------------\n",
            "K nearest neighbor:\n",
            "              precision    recall  f1-score   support\n",
            "\n",
            "           0       0.92      0.98      0.95       100\n",
            "           1       0.98      0.91      0.94        89\n",
            "\n",
            "    accuracy                           0.95       189\n",
            "   macro avg       0.95      0.95      0.95       189\n",
            "weighted avg       0.95      0.95      0.95       189\n",
            "\n",
            "---------------------------------------------------------------------------------------------------------------------------\n",
            "svc:\n",
            "              precision    recall  f1-score   support\n",
            "\n",
            "           0       0.91      0.98      0.94       100\n",
            "           1       0.98      0.89      0.93        89\n",
            "\n",
            "    accuracy                           0.94       189\n",
            "   macro avg       0.94      0.93      0.94       189\n",
            "weighted avg       0.94      0.94      0.94       189\n",
            "\n",
            "---------------------------------------------------------------------------------------------------------------------------\n",
            "Decision tree:\n",
            "              precision    recall  f1-score   support\n",
            "\n",
            "           0       0.90      0.94      0.92       100\n",
            "           1       0.93      0.88      0.90        89\n",
            "\n",
            "    accuracy                           0.91       189\n",
            "   macro avg       0.91      0.91      0.91       189\n",
            "weighted avg       0.91      0.91      0.91       189\n",
            "\n",
            "---------------------------------------------------------------------------------------------------------------------------\n"
          ],
          "name": "stdout"
        }
      ]
    },
    {
      "cell_type": "code",
      "metadata": {
        "id": "zAY1XLiNb3BG",
        "colab_type": "code",
        "colab": {}
      },
      "source": [
        ""
      ],
      "execution_count": null,
      "outputs": []
    }
  ]
}